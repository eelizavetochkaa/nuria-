{
 "cells": [
  {
   "cell_type": "markdown",
   "id": "cd465301",
   "metadata": {},
   "source": [
    "# Кодирование категориальных признаков, масштабирование количественных признаков"
   ]
  },
  {
   "cell_type": "markdown",
   "id": "1aa0efc2",
   "metadata": {},
   "source": [
    "Большинство моделей машинного обучения работают только с количественными признаками, поэтому категориальные признаки (пол, заболевание, вредные привычки и др.) требуют перевода в количественный формат - **кодирование**. Один из сопособов кодирования категориальных признаков  - `One Hot Encoder` - уже был рассмотрен ранее в практическом занятии 3.1. Рассмотрим и другие способы кодирования и высним влияет ли метод кодирования на качество модели. \n",
    "\n",
    "Кроме того, количественные признаки могут иметь разные масштабы (например, возраст от 0 до 100, индекс массы тела от 15 до 40, плотность костей от 0.5 г/см³ до 1.5 г/см³), а, следовательно, могут иметь пропорциональное масштабу влияние, например, на линейную модель. Чтобы этого избежать проводят масштабирование признаков. Два возможных способа масштабирования - `Standard Scaler` и `Min Max Scaler` - были рассмотрены ранее в практическом занятии 3.1. Однако, существуют и другие способы масштабирования количественных признаков."
   ]
  },
  {
   "cell_type": "markdown",
   "id": "2caf77b7",
   "metadata": {},
   "source": [
    "Обзор методов кодирования и масштабирования будем проводить на наборе данных для прогноза инсульта у пациента на основе таких входных параметров, как пол, возраст, различные заболевания, статус курения и др. По данным Всемирной организации здравоохранения (ВОЗ), инсульт является второй по значимости причиной смерти в мире, на него приходится около 11% всех смертей. Данные содержаться виде таблицы, находящейся в файле `stroke.csv`."
   ]
  },
  {
   "cell_type": "markdown",
   "id": "26180169",
   "metadata": {},
   "source": [
    "Каждая строка в данных содержит соответствующую информацию о пациенте:\n",
    "\n",
    "- id: уникальный идентификатор пациента;\n",
    "- gender: пол пациента;\n",
    "- age: возраст пациента;\n",
    "- hypertension: наличие гипертонии;\n",
    "- heart_disease: наличие сердечно-сосудистых заболеваний;\n",
    "- ever_married: был ли пациент когда-либо женат;\n",
    "- work_type: тип трудоустройства пациента;\n",
    "- Residence_type: тип места жительства (городской или сельский);\n",
    "- avg_glucose_level: средний уровень глюкозы в крови, mg/dL;\n",
    "- bmi: индекс массы тела;\n",
    "- smoking_status: статус курения;\n",
    "- stroke: факт инсульта (нет или да)."
   ]
  },
  {
   "cell_type": "markdown",
   "id": "de5ce7a0",
   "metadata": {},
   "source": [
    "Загрузим данные и выведем первые 5 строк таблицы."
   ]
  },
  {
   "cell_type": "code",
   "execution_count": 1,
   "id": "7edcc1b6",
   "metadata": {},
   "outputs": [
    {
     "data": {
      "text/html": [
       "<div>\n",
       "<style scoped>\n",
       "    .dataframe tbody tr th:only-of-type {\n",
       "        vertical-align: middle;\n",
       "    }\n",
       "\n",
       "    .dataframe tbody tr th {\n",
       "        vertical-align: top;\n",
       "    }\n",
       "\n",
       "    .dataframe thead th {\n",
       "        text-align: right;\n",
       "    }\n",
       "</style>\n",
       "<table border=\"1\" class=\"dataframe\">\n",
       "  <thead>\n",
       "    <tr style=\"text-align: right;\">\n",
       "      <th></th>\n",
       "      <th>gender</th>\n",
       "      <th>age</th>\n",
       "      <th>hypertension</th>\n",
       "      <th>heart_disease</th>\n",
       "      <th>ever_married</th>\n",
       "      <th>work_type</th>\n",
       "      <th>Residence_type</th>\n",
       "      <th>avg_glucose_level</th>\n",
       "      <th>bmi</th>\n",
       "      <th>smoking_status</th>\n",
       "      <th>stroke</th>\n",
       "    </tr>\n",
       "    <tr>\n",
       "      <th>id</th>\n",
       "      <th></th>\n",
       "      <th></th>\n",
       "      <th></th>\n",
       "      <th></th>\n",
       "      <th></th>\n",
       "      <th></th>\n",
       "      <th></th>\n",
       "      <th></th>\n",
       "      <th></th>\n",
       "      <th></th>\n",
       "      <th></th>\n",
       "    </tr>\n",
       "  </thead>\n",
       "  <tbody>\n",
       "    <tr>\n",
       "      <th>22</th>\n",
       "      <td>Male</td>\n",
       "      <td>5</td>\n",
       "      <td>no</td>\n",
       "      <td>no</td>\n",
       "      <td>No</td>\n",
       "      <td>children</td>\n",
       "      <td>Rural</td>\n",
       "      <td>100.81</td>\n",
       "      <td>20.6</td>\n",
       "      <td>unknown</td>\n",
       "      <td>no</td>\n",
       "    </tr>\n",
       "    <tr>\n",
       "      <th>36</th>\n",
       "      <td>Male</td>\n",
       "      <td>5</td>\n",
       "      <td>no</td>\n",
       "      <td>no</td>\n",
       "      <td>No</td>\n",
       "      <td>children</td>\n",
       "      <td>Rural</td>\n",
       "      <td>915.00</td>\n",
       "      <td>16.6</td>\n",
       "      <td>unknown</td>\n",
       "      <td>no</td>\n",
       "    </tr>\n",
       "    <tr>\n",
       "      <th>71</th>\n",
       "      <td>Male</td>\n",
       "      <td>7</td>\n",
       "      <td>no</td>\n",
       "      <td>no</td>\n",
       "      <td>No</td>\n",
       "      <td>children</td>\n",
       "      <td>Urban</td>\n",
       "      <td>94.41</td>\n",
       "      <td>16.8</td>\n",
       "      <td>unknown</td>\n",
       "      <td>no</td>\n",
       "    </tr>\n",
       "    <tr>\n",
       "      <th>72</th>\n",
       "      <td>Male</td>\n",
       "      <td>3</td>\n",
       "      <td>no</td>\n",
       "      <td>no</td>\n",
       "      <td>No</td>\n",
       "      <td>children</td>\n",
       "      <td>Urban</td>\n",
       "      <td>93.74</td>\n",
       "      <td>17.7</td>\n",
       "      <td>unknown</td>\n",
       "      <td>no</td>\n",
       "    </tr>\n",
       "    <tr>\n",
       "      <th>84</th>\n",
       "      <td>Male</td>\n",
       "      <td>55</td>\n",
       "      <td>no</td>\n",
       "      <td>no</td>\n",
       "      <td>Yes</td>\n",
       "      <td>Private</td>\n",
       "      <td>Urban</td>\n",
       "      <td>89.17</td>\n",
       "      <td>31.5</td>\n",
       "      <td>never smoked</td>\n",
       "      <td>no</td>\n",
       "    </tr>\n",
       "  </tbody>\n",
       "</table>\n",
       "</div>"
      ],
      "text/plain": [
       "   gender  age hypertension heart_disease ever_married work_type  \\\n",
       "id                                                                 \n",
       "22   Male    5           no            no           No  children   \n",
       "36   Male    5           no            no           No  children   \n",
       "71   Male    7           no            no           No  children   \n",
       "72   Male    3           no            no           No  children   \n",
       "84   Male   55           no            no          Yes   Private   \n",
       "\n",
       "   Residence_type  avg_glucose_level   bmi smoking_status stroke  \n",
       "id                                                                \n",
       "22          Rural             100.81  20.6        unknown     no  \n",
       "36          Rural             915.00  16.6        unknown     no  \n",
       "71          Urban              94.41  16.8        unknown     no  \n",
       "72          Urban              93.74  17.7        unknown     no  \n",
       "84          Urban              89.17  31.5   never smoked     no  "
      ]
     },
     "execution_count": 1,
     "metadata": {},
     "output_type": "execute_result"
    }
   ],
   "source": [
    "import pandas as pd\n",
    "df = pd.read_csv('stroke.csv', index_col='id')\n",
    "df.head()"
   ]
  },
  {
   "cell_type": "markdown",
   "id": "b81fb298",
   "metadata": {},
   "source": [
    "Проведем предварительную подготоску данных:\n",
    "- разделим признаки на входные и целевой;\n",
    "- укажем категориальные и количественные признаки;\n",
    "- проведем кодирование с использованием `OneHotEncoder`;\n",
    "- проведем масштабирование с использованием `StandardScaler`."
   ]
  },
  {
   "cell_type": "code",
   "execution_count": 2,
   "id": "a681e1cb",
   "metadata": {},
   "outputs": [],
   "source": [
    "# Импорт библиотек\n",
    "import sklearn\n",
    "from sklearn.model_selection import train_test_split\n",
    "from sklearn.preprocessing import OneHotEncoder\n",
    "from sklearn.preprocessing import StandardScaler\n",
    "from sklearn.linear_model import LogisticRegression\n",
    "\n",
    "RANDOM_STATE=4\n",
    "\n",
    "X = df.drop(columns=['stroke'])\n",
    "y = df['stroke']\n",
    "X_train, X_test, y_train, y_test = train_test_split(X, y, test_size=0.3, random_state=RANDOM_STATE, stratify=y) \n",
    "cat_col_names = ['gender', 'hypertension', 'heart_disease', 'ever_married', 'work_type', 'Residence_type', 'smoking_status']\n",
    "num_col_names = ['age', 'avg_glucose_level', 'bmi']"
   ]
  },
  {
   "cell_type": "code",
   "execution_count": 3,
   "id": "0d504edf",
   "metadata": {},
   "outputs": [
    {
     "ename": "ValueError",
     "evalue": "Found unknown categories [' '] in column 3 during transform",
     "output_type": "error",
     "traceback": [
      "\u001b[1;31m---------------------------------------------------------------------------\u001b[0m",
      "\u001b[1;31mValueError\u001b[0m                                Traceback (most recent call last)",
      "\u001b[1;32m~\\AppData\\Local\\Temp\\ipykernel_6688\\34853461.py\u001b[0m in \u001b[0;36m<module>\u001b[1;34m\u001b[0m\n\u001b[0;32m      1\u001b[0m \u001b[0mencoder\u001b[0m \u001b[1;33m=\u001b[0m \u001b[0mOneHotEncoder\u001b[0m\u001b[1;33m(\u001b[0m\u001b[0mdrop\u001b[0m\u001b[1;33m=\u001b[0m\u001b[1;34m'first'\u001b[0m\u001b[1;33m,\u001b[0m \u001b[0msparse\u001b[0m\u001b[1;33m=\u001b[0m\u001b[1;32mFalse\u001b[0m\u001b[1;33m)\u001b[0m\u001b[1;33m\u001b[0m\u001b[1;33m\u001b[0m\u001b[0m\n\u001b[0;32m      2\u001b[0m \u001b[0mX_train_ohe\u001b[0m \u001b[1;33m=\u001b[0m \u001b[0mencoder\u001b[0m\u001b[1;33m.\u001b[0m\u001b[0mfit_transform\u001b[0m\u001b[1;33m(\u001b[0m\u001b[0mX_train\u001b[0m\u001b[1;33m[\u001b[0m\u001b[0mcat_col_names\u001b[0m\u001b[1;33m]\u001b[0m\u001b[1;33m)\u001b[0m\u001b[1;33m\u001b[0m\u001b[1;33m\u001b[0m\u001b[0m\n\u001b[1;32m----> 3\u001b[1;33m \u001b[0mX_test_ohe\u001b[0m \u001b[1;33m=\u001b[0m \u001b[0mencoder\u001b[0m\u001b[1;33m.\u001b[0m\u001b[0mtransform\u001b[0m\u001b[1;33m(\u001b[0m\u001b[0mX_test\u001b[0m\u001b[1;33m[\u001b[0m\u001b[0mcat_col_names\u001b[0m\u001b[1;33m]\u001b[0m\u001b[1;33m)\u001b[0m\u001b[1;33m\u001b[0m\u001b[1;33m\u001b[0m\u001b[0m\n\u001b[0m\u001b[0;32m      4\u001b[0m \u001b[0mencoder_col_names\u001b[0m \u001b[1;33m=\u001b[0m \u001b[0mencoder\u001b[0m\u001b[1;33m.\u001b[0m\u001b[0mget_feature_names_out\u001b[0m\u001b[1;33m(\u001b[0m\u001b[1;33m)\u001b[0m\u001b[1;33m\u001b[0m\u001b[1;33m\u001b[0m\u001b[0m\n\u001b[0;32m      5\u001b[0m \u001b[0mX_train_ohe\u001b[0m \u001b[1;33m=\u001b[0m \u001b[0mpd\u001b[0m\u001b[1;33m.\u001b[0m\u001b[0mDataFrame\u001b[0m\u001b[1;33m(\u001b[0m\u001b[0mX_train_ohe\u001b[0m\u001b[1;33m,\u001b[0m \u001b[0mcolumns\u001b[0m\u001b[1;33m=\u001b[0m\u001b[0mencoder_col_names\u001b[0m\u001b[1;33m)\u001b[0m\u001b[1;33m\u001b[0m\u001b[1;33m\u001b[0m\u001b[0m\n",
      "\u001b[1;32me:\\true47\\nlp_project_3\\.venv\\lib\\site-packages\\sklearn\\preprocessing\\_encoders.py\u001b[0m in \u001b[0;36mtransform\u001b[1;34m(self, X)\u001b[0m\n\u001b[0;32m    511\u001b[0m             \u001b[0mhandle_unknown\u001b[0m\u001b[1;33m=\u001b[0m\u001b[0mself\u001b[0m\u001b[1;33m.\u001b[0m\u001b[0mhandle_unknown\u001b[0m\u001b[1;33m,\u001b[0m\u001b[1;33m\u001b[0m\u001b[1;33m\u001b[0m\u001b[0m\n\u001b[0;32m    512\u001b[0m             \u001b[0mforce_all_finite\u001b[0m\u001b[1;33m=\u001b[0m\u001b[1;34m\"allow-nan\"\u001b[0m\u001b[1;33m,\u001b[0m\u001b[1;33m\u001b[0m\u001b[1;33m\u001b[0m\u001b[0m\n\u001b[1;32m--> 513\u001b[1;33m             \u001b[0mwarn_on_unknown\u001b[0m\u001b[1;33m=\u001b[0m\u001b[0mwarn_on_unknown\u001b[0m\u001b[1;33m,\u001b[0m\u001b[1;33m\u001b[0m\u001b[1;33m\u001b[0m\u001b[0m\n\u001b[0m\u001b[0;32m    514\u001b[0m         )\n\u001b[0;32m    515\u001b[0m \u001b[1;33m\u001b[0m\u001b[0m\n",
      "\u001b[1;32me:\\true47\\nlp_project_3\\.venv\\lib\\site-packages\\sklearn\\preprocessing\\_encoders.py\u001b[0m in \u001b[0;36m_transform\u001b[1;34m(self, X, handle_unknown, force_all_finite, warn_on_unknown)\u001b[0m\n\u001b[0;32m    140\u001b[0m                         \u001b[1;34m\" during transform\"\u001b[0m\u001b[1;33m.\u001b[0m\u001b[0mformat\u001b[0m\u001b[1;33m(\u001b[0m\u001b[0mdiff\u001b[0m\u001b[1;33m,\u001b[0m \u001b[0mi\u001b[0m\u001b[1;33m)\u001b[0m\u001b[1;33m\u001b[0m\u001b[1;33m\u001b[0m\u001b[0m\n\u001b[0;32m    141\u001b[0m                     )\n\u001b[1;32m--> 142\u001b[1;33m                     \u001b[1;32mraise\u001b[0m \u001b[0mValueError\u001b[0m\u001b[1;33m(\u001b[0m\u001b[0mmsg\u001b[0m\u001b[1;33m)\u001b[0m\u001b[1;33m\u001b[0m\u001b[1;33m\u001b[0m\u001b[0m\n\u001b[0m\u001b[0;32m    143\u001b[0m                 \u001b[1;32melse\u001b[0m\u001b[1;33m:\u001b[0m\u001b[1;33m\u001b[0m\u001b[1;33m\u001b[0m\u001b[0m\n\u001b[0;32m    144\u001b[0m                     \u001b[1;32mif\u001b[0m \u001b[0mwarn_on_unknown\u001b[0m\u001b[1;33m:\u001b[0m\u001b[1;33m\u001b[0m\u001b[1;33m\u001b[0m\u001b[0m\n",
      "\u001b[1;31mValueError\u001b[0m: Found unknown categories [' '] in column 3 during transform"
     ]
    }
   ],
   "source": [
    "encoder = OneHotEncoder(drop='first', sparse=False)\n",
    "X_train_ohe = encoder.fit_transform(X_train[cat_col_names])\n",
    "X_test_ohe = encoder.transform(X_test[cat_col_names])\n",
    "encoder_col_names = encoder.get_feature_names_out()\n",
    "X_train_ohe = pd.DataFrame(X_train_ohe, columns=encoder_col_names)\n",
    "X_test_ohe = pd.DataFrame(X_test_ohe, columns=encoder_col_names)\n",
    "    \n",
    "scaler = StandardScaler()\n",
    "X_train_scaled = scaler.fit_transform(X_train[num_col_names])\n",
    "X_test_scaled = scaler.transform(X_test[num_col_names])\n",
    "X_train_scaled = pd.DataFrame(X_train_scaled, columns=num_col_names)\n",
    "X_test_scaled = pd.DataFrame(X_test_scaled, columns=num_col_names)\n",
    "    \n",
    "X_train = pd.concat([X_train_ohe, X_train_scaled], axis=1)\n",
    "X_test = pd.concat([X_test_ohe, X_test_scaled], axis=1)"
   ]
  },
  {
   "cell_type": "markdown",
   "id": "1a3763e0",
   "metadata": {},
   "source": [
    "**!!! Ошибка!!!**"
   ]
  },
  {
   "cell_type": "markdown",
   "id": "51d1ae72",
   "metadata": {},
   "source": [
    "Найдена неизвестная категория [' '] в столбце 3 при кодировании. Третий категориальный столбец - это `ever_married` (напомним, что индексация в Python, как правило, начинается с 0). Найдем эту строчку:"
   ]
  },
  {
   "cell_type": "code",
   "execution_count": null,
   "id": "cfbf3835",
   "metadata": {},
   "outputs": [],
   "source": [
    "df[df['ever_married']==' ']"
   ]
  },
  {
   "cell_type": "markdown",
   "id": "bc469ad5",
   "metadata": {},
   "source": [
    "В столбце `ever_married` действительно пробел. Может это техническая ошибка, а может пациент не захотел просто указывать данный параметр. В любом случае, нужно уметь работать с неизвестными категориями. "
   ]
  },
  {
   "cell_type": "markdown",
   "id": "a89786ce",
   "metadata": {},
   "source": [
    "У класса `OneHotEncoder` есть способ обработки неизвестных категорий (см. практическое занятие 3.1). Для этого существую параметр класса `handle_unknown`, который может принимать следующие значения:\n",
    "\n",
    "* `error` - выдать ошибку, если во время преобразования присутствует неизвестная категория (это значение по умолчанию);\n",
    "* `ignore` - если во время преобразования встречается неизвестная категория, то результирующие столбцы для этого признака будут заполнены нулями;\n",
    "* `infrequent_if_exist` - если во время преобразования встречается неизвестная категория, полученные столбцы для этого признака будут сопоставлены с самой нечастой категорией, если она существует;\n",
    "* `warn` - если во время преобразования встречается неизвестная категория, выдается предупреждение, а затем кодирование продолжается, как описано для `infrequent_if_exist`."
   ]
  },
  {
   "cell_type": "markdown",
   "id": "889a2f83",
   "metadata": {},
   "source": [
    "Используем значение параметра `handle_unknown='ignore'`."
   ]
  },
  {
   "cell_type": "code",
   "execution_count": null,
   "id": "45672d5d",
   "metadata": {},
   "outputs": [],
   "source": [
    "# Кодирование категориальных признаков и масштабирование количественных признаков\n",
    "encoder = OneHotEncoder(drop='first', sparse=False, handle_unknown='ignore')\n",
    "X_train_ohe = encoder.fit_transform(X_train[cat_col_names])\n",
    "X_test_ohe = encoder.transform(X_test[cat_col_names])\n",
    "encoder_col_names = encoder.get_feature_names_out()\n",
    "X_train_ohe = pd.DataFrame(X_train_ohe, columns=encoder_col_names)\n",
    "X_test_ohe = pd.DataFrame(X_test_ohe, columns=encoder_col_names)\n",
    "    \n",
    "scaler = StandardScaler()\n",
    "X_train_scaled = scaler.fit_transform(X_train[num_col_names])\n",
    "X_test_scaled = scaler.transform(X_test[num_col_names])\n",
    "X_train_scaled = pd.DataFrame(X_train_scaled, columns=num_col_names)\n",
    "X_test_scaled = pd.DataFrame(X_test_scaled, columns=num_col_names)\n",
    "    \n",
    "X_train1 = pd.concat([X_train_ohe, X_train_scaled], axis=1)\n",
    "X_test1 = pd.concat([X_test_ohe, X_test_scaled], axis=1)"
   ]
  },
  {
   "cell_type": "markdown",
   "id": "dab53db0",
   "metadata": {},
   "source": [
    "Ошибки больше нет, осталось только предупреждение."
   ]
  },
  {
   "cell_type": "code",
   "execution_count": null,
   "id": "5ea32f6c",
   "metadata": {},
   "outputs": [],
   "source": [
    "X_train1.head()"
   ]
  },
  {
   "cell_type": "markdown",
   "id": "92f1eeab",
   "metadata": {},
   "source": [
    "Одним из недостатков кодировщика `OneHotEncoder` является значительное увеличение признаков, так как на каждую категорию создается новый столбец (кроме, быть может, первого в случае параметра `drop='first'`). Больше признаков — необязательно лучше. Модель будет дольше обучаться, и качество может пострадать. "
   ]
  },
  {
   "cell_type": "markdown",
   "id": "b14ea7f4",
   "metadata": {},
   "source": [
    "Рассмотрим другой способ кодировки категориальных признаков - `OrdinalEncoder`. При этом способе кодирования каждой категории присваивается целое число от 0 до $n-1$, где $n$ — количество уникальных категорий."
   ]
  },
  {
   "cell_type": "markdown",
   "id": "6e3b5021",
   "metadata": {},
   "source": [
    "Для работы с неизвестными категориями в `OrdinalEncoder` есть (как и в OneHotEncoder) параметр `handle_unknown`, но он принимает другие значения:\n",
    "* `error` - выдать ошибку, если во время преобразования присутствует неизвестная категория (это значение по умолчанию);\n",
    "* `use_encoded_value` - кодирует заданным значением.\n",
    "\n",
    "Если выбрано значение `use_encoded_value`, то необходимо в параметре `unknown_value` указать значение, которым будет кодироваться неизвестная категория. Если указать `unknown_value = np.nan`, то он закодирует их как NaN (Not a Number)."
   ]
  },
  {
   "cell_type": "code",
   "execution_count": null,
   "id": "ecdaa96f",
   "metadata": {},
   "outputs": [],
   "source": [
    "from sklearn.preprocessing import OrdinalEncoder\n",
    "import numpy as np\n",
    "\n",
    "# Кодирование категориальных признаков и масштабирование количественных признаков\n",
    "encoder = OrdinalEncoder(handle_unknown='use_encoded_value', unknown_value = np.nan)\n",
    "X_train_oe = encoder.fit_transform(X_train[cat_col_names])\n",
    "X_test_oe = encoder.transform(X_test[cat_col_names])\n",
    "X_train_oe = pd.DataFrame(X_train_oe, columns=cat_col_names)\n",
    "X_test_oe = pd.DataFrame(X_test_oe, columns=cat_col_names)\n",
    "    \n",
    "scaler = StandardScaler()\n",
    "X_train_scaled = scaler.fit_transform(X_train[num_col_names])\n",
    "X_test_scaled = scaler.transform(X_test[num_col_names])\n",
    "X_train_scaled = pd.DataFrame(X_train_scaled, columns=num_col_names)\n",
    "X_test_scaled = pd.DataFrame(X_test_scaled, columns=num_col_names)\n",
    "    \n",
    "X_train2 = pd.concat([X_train_oe, X_train_scaled], axis=1)\n",
    "X_test2 = pd.concat([X_test_oe, X_test_scaled], axis=1)"
   ]
  },
  {
   "cell_type": "code",
   "execution_count": null,
   "id": "3f4159c1",
   "metadata": {},
   "outputs": [],
   "source": [
    "X_train2.head()"
   ]
  },
  {
   "cell_type": "markdown",
   "id": "542dd3cd",
   "metadata": {},
   "source": [
    "Целевая переменная в задаче - `stroke` тоже нуждается в кодиовании. Как правило, для кодирования целевой переменной в задаче классификации используют `LabelEncoder`. Он также присваивает каждой категории целое число от 0 до $n-1$, где $n$ — количество уникальных категорий."
   ]
  },
  {
   "cell_type": "code",
   "execution_count": null,
   "id": "46ad6a86",
   "metadata": {},
   "outputs": [],
   "source": [
    "from sklearn.preprocessing import LabelEncoder\n",
    "\n",
    "le = LabelEncoder()\n",
    "y_train = le.fit_transform(y_train)\n",
    "y_test = le.transform(y_test)\n",
    "y_train"
   ]
  },
  {
   "cell_type": "markdown",
   "id": "12e76126",
   "metadata": {},
   "source": [
    "`LabelEncoder` и `OrdinalEncoder` — два популярных класса в библиотеке `scikit-learn`, используемые для кодирования категориальных данных. Хотя они имеют схожую функциональность, между ними есть существенные различия.\n",
    "\n",
    "**Ключевые различия:**\n",
    "\n",
    "1. ***Формат данных***: LabelEncoder работает с одномерными массивами, а OrdinalEncoder — с двумерными.\n",
    "\n",
    "2. ***Назначение***: LabelEncoder обычно используется для целевой переменной или одиночной категориальной колонки, а OrdinalEncoder — для нескольких категориальных признаков.\n",
    "\n",
    "3. ***Поддержка неизвестных категорий***: OrdinalEncoder имеет встроенную поддержку неизвестных категорий, что делает его более гибким для реальных данных."
   ]
  },
  {
   "cell_type": "markdown",
   "id": "12056847",
   "metadata": {},
   "source": [
    "В Python есть специальная библиотека для кодирования категориальных переменных - библиотека `Category Encoders`. В ней представлены и другие способы кодирования: `HashingEncoder`, `TargetEncoder`, `WOEEncoder` и другие. Описание библиотеки можно посмотреть зесь: https://contrib.scikit-learn.org/category_encoders/"
   ]
  },
  {
   "cell_type": "markdown",
   "id": "27efaf22",
   "metadata": {},
   "source": [
    "Для масштабирования количественных признаков, кроме уже рассмотренных в практическом занятии 3.1 `MinMaxScaler` и `StandardScaler` есть и другие. Например, `MaxAbsScaler`, `RobustScaler` и другие. Документацию по другим методам масштабирования и кодирования библиотеки `scikit-learn` можно посмотреть здесь: https://scikit-learn.org/stable/api/sklearn.preprocessing.html"
   ]
  },
  {
   "cell_type": "markdown",
   "id": "52630d85",
   "metadata": {},
   "source": [
    "Заменив неизвестную категорию при кодировании `OrdinalEncoder` мы получили пропуск в данных - NaN (Not a Number). "
   ]
  },
  {
   "cell_type": "code",
   "execution_count": null,
   "id": "a9a96a80",
   "metadata": {
    "scrolled": true
   },
   "outputs": [],
   "source": [
    "# Вывод уникальных значений в столбце 'ever_married' после кодировки\n",
    "X_test2['ever_married'].unique()"
   ]
  },
  {
   "cell_type": "markdown",
   "id": "a63181af",
   "metadata": {},
   "source": [
    "Пропуск NaN можно заменить разными способами, выбрав подходящее значение для каждого признака. Для замены пропусков в библиотеке `sklearn` есть класс `SimpleImputer`, позволяющий заменять их на различные статистические показатели или заданные константы. Вот основные параметры класса:\n",
    "\n",
    "- `missing_values`: указывает, как обозначаются пропущенные значения. По умолчанию это np.nan, но можно использовать и другие значения, например, -1;\n",
    "- `strategy`: определяет метод замены пропущенных значений. Доступные стратегии включают:\n",
    "\n",
    "    * 'mean': замена на среднее значение (только для числовых данных);\n",
    "    * 'median': замена на медиану (только для числовых данных);\n",
    "    * 'most_frequent': замена на наиболее частое значение (для категориальных данных);\n",
    "    * 'constant': замена на заданное значение (например, fill_value=0);\n",
    "\n",
    "- `fill_value`: значение, используемое для замены, если стратегия установлена в 'constant';\n",
    "- `copy`: если установлено True, создается копия входных данных, по умолчанию True;\n",
    "- `add_indicator`: если установлено True, добавляет дополнительный индикаторный столбец, показывающий, были ли значения пропущены.\n",
    "\n"
   ]
  },
  {
   "cell_type": "markdown",
   "id": "c2307542",
   "metadata": {},
   "source": [
    "Используем стратегию `strategy='most_frequent'` для заполнения пропуска в столбце `ever_married`."
   ]
  },
  {
   "cell_type": "code",
   "execution_count": null,
   "id": "5e5711ca",
   "metadata": {},
   "outputs": [],
   "source": [
    "from sklearn.impute import SimpleImputer\n",
    "\n",
    "imputer = SimpleImputer(missing_values=np.nan, strategy='most_frequent')\n",
    "X_test2['ever_married'] = imputer.fit_transform(X_test2[['ever_married']])"
   ]
  },
  {
   "cell_type": "code",
   "execution_count": null,
   "id": "ceec3310",
   "metadata": {},
   "outputs": [],
   "source": [
    "# Вывод уникальных значений в столбце 'ever_married' после заполнения пропуска\n",
    "X_test2['ever_married'].unique()"
   ]
  },
  {
   "cell_type": "markdown",
   "id": "896b8fd3",
   "metadata": {},
   "source": [
    "Способ кодирования и масштабирования может повлиять на качество модели. Построим модели логистической регрессии для разных способов кодирования признаков. При построении моделей не забываем про дисбаланс классов (практическое занятие 3.5) и регуляризацию (практическое занятие 3.4)."
   ]
  },
  {
   "cell_type": "code",
   "execution_count": null,
   "id": "11752fee",
   "metadata": {},
   "outputs": [],
   "source": [
    "from sklearn.metrics import accuracy_score\n",
    "model = LogisticRegression(class_weight='balanced', penalty = 'l2', C=0.01)\n",
    "model.fit(X_train1, y_train)\n",
    "y_pred = model.predict(X_test1)\n",
    "r = accuracy_score(y_test, y_pred)\n",
    "print(f'Accuracy модели  на тестовой выборке равна {r: .2%}')"
   ]
  },
  {
   "cell_type": "code",
   "execution_count": null,
   "id": "e6c4816a",
   "metadata": {},
   "outputs": [],
   "source": [
    "from sklearn.metrics import accuracy_score\n",
    "model = LogisticRegression(class_weight='balanced', penalty = 'l2', C=0.01)\n",
    "model.fit(X_train2, y_train)\n",
    "y_pred = model.predict(X_test2)\n",
    "r = accuracy_score(y_test, y_pred)\n",
    "print(f'Accuracy модели  на тестовой выборке равна {r: .2%}')"
   ]
  },
  {
   "cell_type": "markdown",
   "id": "fcc56224",
   "metadata": {},
   "source": [
    "Качество модели, хоть и не существенно, но поменялось. Если число признаков будет больше, масштабы количественных признаков будут отличаться более разительно, а некоторые категориальные признаки будет иметь существенно большее количество категорий, то разница в качестве моделей может быть выше. \n",
    "\n",
    "Следует также отметить, что методы кодирования и масштабирования признаков можно сочетать на одном наборе данных: \n",
    "* если число категорий невелико, то для таких признаков использовать, например, `OneHotEncoder`;\n",
    "* если категориальные признаки имеют осмысленный порядок (например, самочувствие: плохое, удовлетворительное, хорошее, отличное), то имеет смысл их закодировать при помощи `OrdinalEncoder` (при этом лучше явно указать порядок категорий при помощи параметра класса `categories`);\n",
    "* и др."
   ]
  },
  {
   "cell_type": "markdown",
   "id": "7e5033cf",
   "metadata": {},
   "source": [
    "***Зачетное задание по теме***\n",
    "\n",
    "Во втором практическом занятии 3-го модуля в качестве зачетного задания по теме была предложена задача бинарной  классификации определения доброкачественности (`benign`) или злокачественности (`malignant`) опухоли груди на основе данных, полученных из изображений, созданных при помощи тонкоигольной аспирационной биопсии (FNA) опухоли груди (файл `BreastCanser.csv`). Постройте модели логистической регресии для разных сочетаний масштабирования признаков (используйте не менее 2-х способов масштабирования). Не забывайте про переобучение и дисбаланс классов. Сравните метрики `accuracy` и `f1-score` для полученных моделей."
   ]
  },
  {
   "cell_type": "code",
   "execution_count": 8,
   "id": "71f8f2b4",
   "metadata": {},
   "outputs": [],
   "source": [
    "# в этой ячейке должен быть ваш код\n",
    "import pandas as pd\n",
    "import numpy as np\n",
    "from sklearn.linear_model import LogisticRegression\n",
    "from sklearn.model_selection import train_test_split\n",
    "from sklearn.preprocessing import StandardScaler, MinMaxScaler\n",
    "from sklearn.metrics import accuracy_score, f1_score\n",
    "from sklearn.utils.class_weight import compute_class_weight\n",
    "import matplotlib.pyplot as plt\n",
    "import seaborn as sns\n",
    "\n",
    "# Для борьбы с дисбалансом\n",
    "from imblearn.over_sampling import SMOTE\n",
    "\n",
    "# Загрузка данных\n",
    "df = pd.read_csv('BreastCanser.csv')  # укажите путь к файлу\n",
    "\n",
    "# Удаляем лишние колонки, если есть\n",
    "df.drop(columns=['id', 'Unnamed: 32'], errors='ignore', inplace=True)\n",
    "\n",
    "# Преобразуем целевой признак: benign=0, malignant=1\n",
    "df['diagnosis'] = df['diagnosis'].map({'B':0, 'M':1})\n",
    "\n",
    "X = df.drop('diagnosis', axis=1)\n",
    "y = df['diagnosis']\n"
   ]
  },
  {
   "cell_type": "code",
   "execution_count": 9,
   "id": "5ead87e1-ce9a-46bb-bb84-0e67318671bc",
   "metadata": {},
   "outputs": [],
   "source": [
    "X_train, X_test, y_train, y_test = train_test_split(\n",
    "    X, y, test_size=0.2, random_state=42, stratify=y)"
   ]
  },
  {
   "cell_type": "code",
   "execution_count": 10,
   "id": "cbabd970-ed02-4df9-b8db-916d4916f9ba",
   "metadata": {},
   "outputs": [],
   "source": [
    "scalers = {\n",
    "    'StandardScaler': StandardScaler(),\n",
    "    'MinMaxScaler': MinMaxScaler()\n",
    "}\n",
    "\n",
    "X_train_scaled = {}\n",
    "X_test_scaled = {}\n",
    "\n",
    "for name, scaler in scalers.items():\n",
    "    X_train_scaled[name] = scaler.fit_transform(X_train)\n",
    "    X_test_scaled[name] = scaler.transform(X_test)\n",
    "    "
   ]
  },
  {
   "cell_type": "code",
   "execution_count": 11,
   "id": "df222a7b-0020-43cb-9359-c94f3ef3b457",
   "metadata": {},
   "outputs": [],
   "source": [
    "smote = SMOTE(random_state=42)"
   ]
  },
  {
   "cell_type": "code",
   "execution_count": 12,
   "id": "d70e44d7-5e4a-4dd2-9619-b5d6626b2555",
   "metadata": {},
   "outputs": [],
   "source": [
    "def train_evaluate(X_tr, y_tr, X_te, y_te, use_smote=False, scaler_name=''):\n",
    "    if use_smote:\n",
    "        X_res, y_res = smote.fit_resample(X_tr, y_tr)\n",
    "    else:\n",
    "        X_res, y_res = X_tr, y_tr\n",
    "\n",
    "    # Взвешивание классов для борьбы с дисбалансом\n",
    "    class_weights = compute_class_weight('balanced', classes=np.unique(y_res), y=y_res)\n",
    "    class_weight_dict = {0: class_weights[0], 1: class_weights[1]}\n",
    "\n",
    "    model = LogisticRegression(penalty='l2', solver='lbfgs', max_iter=1000, class_weight=class_weight_dict, random_state=42)\n",
    "    model.fit(X_res, y_res)\n",
    "    y_pred = model.predict(X_te)\n",
    "\n",
    "    acc = accuracy_score(y_te, y_pred)\n",
    "    f1 = f1_score(y_te, y_pred)\n",
    "\n",
    "    print(f\"{scaler_name} | SMOTE: {use_smote} | Accuracy: {acc:.4f} | F1-score: {f1:.4f}\")\n",
    "    return acc, f1\n",
    "    "
   ]
  },
  {
   "cell_type": "code",
   "execution_count": 13,
   "id": "116df757-cbf1-4e6f-a9d7-205f29e84800",
   "metadata": {},
   "outputs": [
    {
     "name": "stdout",
     "output_type": "stream",
     "text": [
      "StandardScaler | SMOTE: False | Accuracy: 0.9737 | F1-score: 0.9639\n",
      "StandardScaler | SMOTE: True | Accuracy: 0.9737 | F1-score: 0.9639\n",
      "MinMaxScaler | SMOTE: False | Accuracy: 0.9825 | F1-score: 0.9756\n",
      "MinMaxScaler | SMOTE: True | Accuracy: 0.9825 | F1-score: 0.9756\n"
     ]
    }
   ],
   "source": [
    "results = []\n",
    "\n",
    "for scaler_name in scalers.keys():\n",
    "    # Без SMOTE\n",
    "    acc, f1 = train_evaluate(X_train_scaled[scaler_name], y_train, X_test_scaled[scaler_name], y_test, use_smote=False, scaler_name=scaler_name)\n",
    "    results.append({'Scaler': scaler_name, 'SMOTE': False, 'Accuracy': acc, 'F1-score': f1})\n",
    "\n",
    "    # С SMOTE\n",
    "    acc, f1 = train_evaluate(X_train_scaled[scaler_name], y_train, X_test_scaled[scaler_name], y_test, use_smote=True, scaler_name=scaler_name)\n",
    "    results.append({'Scaler': scaler_name, 'SMOTE': True, 'Accuracy': acc, 'F1-score': f1})"
   ]
  },
  {
   "cell_type": "code",
   "execution_count": 14,
   "id": "d1d795cd-103e-4a5d-8e4a-fc2f46c3c215",
   "metadata": {},
   "outputs": [
    {
     "name": "stdout",
     "output_type": "stream",
     "text": [
      "           Scaler  SMOTE  Accuracy  F1-score\n",
      "0  StandardScaler  False  0.973684  0.963855\n",
      "1  StandardScaler   True  0.973684  0.963855\n",
      "2    MinMaxScaler  False  0.982456  0.975610\n",
      "3    MinMaxScaler   True  0.982456  0.975610\n"
     ]
    },
    {
     "data": {
      "image/png": "[encoded data removed]",
      "text/plain": [
       "<Figure size 640x480 with 1 Axes>"
      ]
     },
     "metadata": {},
     "output_type": "display_data"
    },
    {
     "data": {
      "image/png": "[encoded data removed]",
      "text/plain": [
       "<Figure size 640x480 with 1 Axes>"
      ]
     },
     "metadata": {},
     "output_type": "display_data"
    }
   ],
   "source": [
    "results_df = pd.DataFrame(results)\n",
    "print(results_df)\n",
    "\n",
    "# Визуализация\n",
    "sns.barplot(data=results_df, x='Scaler', y='F1-score', hue='SMOTE')\n",
    "plt.title('Сравнение F1-score моделей')\n",
    "plt.show()\n",
    "\n",
    "sns.barplot(data=results_df, x='Scaler', y='Accuracy', hue='SMOTE')\n",
    "plt.title('Сравнение Accuracy моделей')\n",
    "plt.show()\n"
   ]
  },
  {
   "cell_type": "code",
   "execution_count": null,
   "id": "0455ab6d-c245-4f0a-b789-1625a4fbcbe6",
   "metadata": {},
   "outputs": [],
   "source": []
  },
  {
   "cell_type": "code",
   "execution_count": null,
   "id": "82756c1d-7bc5-4c55-b0a7-4da63a54ce87",
   "metadata": {},
   "outputs": [],
   "source": []
  }
 ],
 "metadata": {
  "kernelspec": {
   "display_name": "Python 3 (ipykernel)",
   "language": "python",
   "name": "python3"
  },
  "language_info": {
   "codemirror_mode": {
    "name": "ipython",
    "version": 3
   },
   "file_extension": ".py",
   "mimetype": "text/x-python",
   "name": "python",
   "nbconvert_exporter": "python",
   "pygments_lexer": "ipython3",
   "version": "3.8.10"
  },
  "varInspector": {
   "cols": {
    "lenName": 16,
    "lenType": 16,
    "lenVar": 40
   },
   "kernels_config": {
    "python": {
     "delete_cmd_postfix": "",
     "delete_cmd_prefix": "del ",
     "library": "var_list.py",
     "varRefreshCmd": "print(var_dic_list())"
    },
    "r": {
     "delete_cmd_postfix": ") ",
     "delete_cmd_prefix": "rm(",
     "library": "var_list.r",
     "varRefreshCmd": "cat(var_dic_list()) "
    }
   },
   "types_to_exclude": [
    "module",
    "function",
    "builtin_function_or_method",
    "instance",
    "_Feature"
   ],
   "window_display": false
  }
 },
 "nbformat": 4,
 "nbformat_minor": 5
}

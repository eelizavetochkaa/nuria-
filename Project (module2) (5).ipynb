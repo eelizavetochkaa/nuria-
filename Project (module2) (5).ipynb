{
 "cells": [
  {
   "cell_type": "markdown",
   "id": "6d324ac0",
   "metadata": {},
   "source": [
    "# Сводный групповой проект по исследовательскому и статистическому анализу биологических или медицинских данных"
   ]
  },
  {
   "cell_type": "markdown",
   "id": "ba17750f",
   "metadata": {},
   "source": [
    "Имеется таблица данных пациентов с опухолями головного мозга.\n",
    "Столбцы таблицы:\n",
    "1. Tumor Type - категория опухоли: менингиома, глиома (астроцитома, олигодендроглиома, глиобластома) и эпендимома.\n",
    "2. Location - расположение опухоли: затылочная доля (Occipital Lobe), ствол мозга (Brainstem), височная доля (Temporal Lobe), лобная доля (Frontal Lobe), мозжечок (Cerebellum) и париентальная доля (Parietal Lobe).\n",
    "3. Size (cm) - размер опухоли, см.\n",
    "4. Grade - градация опухолей мозга, включает четыре степени (в соответствии с классификацией ВОЗ, 2016): \n",
    "    * Grade I — нет ни одного из указанных признаков. Опухоль растёт медленно, имеет клетки, которые очень похожи на нормальные клетки, и редко распространяется на близлежащие ткани.\n",
    "    * Grade II — есть один из признаков (как правило, атипия ядер, но допускаются и единичные митозы). Опухоль растёт медленно, но может распространиться на близлежащие ткани и может рецидивировать.\n",
    "    * Grade III — в опухоли много митотических фигур. Опухоль растёт быстро, это может привести к распространению в близлежащие ткани, опухолевые клетки значительно отличаются от нормальных клеток.\n",
    "    * Grade IV — выраженная пролиферация эндотелия сосудов и наличие некрозов. Опухоль растёт и распространяется очень быстро, клетки не похожи на нормальные клетки.\n",
    "5. Patient Age - возраст пациента.\n",
    "6. Gender - пол пациента.\n"
   ]
  },
  {
   "cell_type": "markdown",
   "id": "35129e6c",
   "metadata": {},
   "source": [
    "Для выполнения проекта необходимо выполнть следущие шаги:\n",
    "1. Откройте файл с данными и изучите общую информацию\n",
    "2. Выполните предобработку данных: \n",
    "    * проверьте наличие пропущенных значений в столбцах таблицы, при необходимости устраните пропуски;\n",
    "    * проверьте соотвествие типов данных в столбцах их содержимому;\n",
    "    * изучите уникальные значения в столбцах, проверьте наличие опечаток.\n",
    "3. Добавьте в таблицу новый столбец - возрастная группа пациента (для деления на возрастные группы воспользуйтесь классификацией Всемирной организации здравоохранения).\n",
    "4. С использование сводных таблиц и/или срезов данных исследуйте:\n",
    "    * медианный возраст мужчин и женщин с опухолями мозга;\n",
    "    * количество мужчин и женщин разных возрастных групп;\n",
    "    * медианный размер для разных категорий опухоли, раположения и градации;\n",
    "    * какая категория опулохи преобладает в каждой возрастной группе у мужчин и женщин.\n",
    "5. Постройте гистограммы распределения размеров опухолей для разных категорий опухоли, раположения и градации.\n",
    "6. Постройте круговые диаграммы для категориальных признаков таблицы.\n",
    "7. При помощи коэффициент $\\phi_K$ из библиотеки phik оцениите связь между признаками (не забудьте указать параметр метода - `interval_cols`).\n",
    "8. Проверьте статистичекие гипотезы:\n",
    "    * различается ли средний возраст мужчин и женщин с опухолью головного мозга;\n",
    "    * действительно ли глиобластомы чаще обнаруживаются у мужчин, чем у женщин;\n",
    "    * действительно ли менингиомы чаще всречаются у детей (до 18 лет), чем у взрослых\n",
    "9. Сделайте общий вывод по работе."
   ]
  },
  {
   "cell_type": "code",
   "execution_count": 1,
   "id": "2571f8b6",
   "metadata": {},
   "outputs": [],
   "source": [
    "# в этой ячейке должен быть ваш код"
   ]
  },
  {
   "cell_type": "markdown",
   "id": "268491ca-fdc3-4a55-abff-359318ef765e",
   "metadata": {},
   "source": [
    "## 1.Откройте файл с данными и изучите общую информацию"
   ]
  },
  {
   "cell_type": "code",
   "execution_count": 1,
   "id": "47373497-09a2-4967-a773-818fd4b5a136",
   "metadata": {},
   "outputs": [],
   "source": [
    "import pandas as pd"
   ]
  },
  {
   "cell_type": "code",
   "execution_count": 2,
   "id": "3f63100e-80bb-4806-a094-e65a47b12a26",
   "metadata": {},
   "outputs": [],
   "source": [
    "tum = pd.read_csv('brain_tumor.csv')"
   ]
  },
  {
   "cell_type": "code",
   "execution_count": 3,
   "id": "206860dd-f1c4-4c4a-940e-615358db7672",
   "metadata": {},
   "outputs": [
    {
     "data": {
      "text/html": [
       "<div>\n",
       "<style scoped>\n",
       "    .dataframe tbody tr th:only-of-type {\n",
       "        vertical-align: middle;\n",
       "    }\n",
       "\n",
       "    .dataframe tbody tr th {\n",
       "        vertical-align: top;\n",
       "    }\n",
       "\n",
       "    .dataframe thead th {\n",
       "        text-align: right;\n",
       "    }\n",
       "</style>\n",
       "<table border=\"1\" class=\"dataframe\">\n",
       "  <thead>\n",
       "    <tr style=\"text-align: right;\">\n",
       "      <th></th>\n",
       "      <th>Tumor Type</th>\n",
       "      <th>Location</th>\n",
       "      <th>Size (cm)</th>\n",
       "      <th>Grade</th>\n",
       "      <th>Patient Age</th>\n",
       "      <th>Gender</th>\n",
       "    </tr>\n",
       "  </thead>\n",
       "  <tbody>\n",
       "    <tr>\n",
       "      <th>0</th>\n",
       "      <td>Oligodendroglioma</td>\n",
       "      <td>Occipital Lobe</td>\n",
       "      <td>9.23</td>\n",
       "      <td>I</td>\n",
       "      <td>48</td>\n",
       "      <td>Female</td>\n",
       "    </tr>\n",
       "    <tr>\n",
       "      <th>1</th>\n",
       "      <td>Ependymoma</td>\n",
       "      <td>Occipital Lobe</td>\n",
       "      <td>0,87</td>\n",
       "      <td>II</td>\n",
       "      <td>47</td>\n",
       "      <td>Male</td>\n",
       "    </tr>\n",
       "    <tr>\n",
       "      <th>2</th>\n",
       "      <td>Meningioma</td>\n",
       "      <td>Occipital Lobe</td>\n",
       "      <td>2.33</td>\n",
       "      <td>II</td>\n",
       "      <td>12</td>\n",
       "      <td>Female</td>\n",
       "    </tr>\n",
       "    <tr>\n",
       "      <th>3</th>\n",
       "      <td>Ependymoma</td>\n",
       "      <td>Occipital Lobe</td>\n",
       "      <td>1.45</td>\n",
       "      <td>III</td>\n",
       "      <td>38</td>\n",
       "      <td>Female</td>\n",
       "    </tr>\n",
       "    <tr>\n",
       "      <th>4</th>\n",
       "      <td>Ependymoma</td>\n",
       "      <td>Brainstem</td>\n",
       "      <td>NaN</td>\n",
       "      <td>I</td>\n",
       "      <td>35</td>\n",
       "      <td>Female</td>\n",
       "    </tr>\n",
       "  </tbody>\n",
       "</table>\n",
       "</div>"
      ],
      "text/plain": [
       "          Tumor Type        Location Size (cm) Grade  Patient Age  Gender\n",
       "0  Oligodendroglioma  Occipital Lobe      9.23     I           48  Female\n",
       "1         Ependymoma  Occipital Lobe      0,87    II           47    Male\n",
       "2         Meningioma  Occipital Lobe      2.33    II           12  Female\n",
       "3         Ependymoma  Occipital Lobe      1.45   III           38  Female\n",
       "4         Ependymoma       Brainstem       NaN     I           35  Female"
      ]
     },
     "execution_count": 3,
     "metadata": {},
     "output_type": "execute_result"
    }
   ],
   "source": [
    "tum.head ()"
   ]
  },
  {
   "cell_type": "code",
   "execution_count": 4,
   "id": "2ba46df5-804d-41e6-91ce-59c254bf84cd",
   "metadata": {},
   "outputs": [
    {
     "name": "stdout",
     "output_type": "stream",
     "text": [
      "<class 'pandas.core.frame.DataFrame'>\n",
      "RangeIndex: 1001 entries, 0 to 1000\n",
      "Data columns (total 6 columns):\n",
      " #   Column       Non-Null Count  Dtype \n",
      "---  ------       --------------  ----- \n",
      " 0   Tumor Type   1001 non-null   object\n",
      " 1   Location     1001 non-null   object\n",
      " 2   Size (cm)    1000 non-null   object\n",
      " 3   Grade        1001 non-null   object\n",
      " 4   Patient Age  1001 non-null   int64 \n",
      " 5   Gender       1001 non-null   object\n",
      "dtypes: int64(1), object(5)\n",
      "memory usage: 47.0+ KB\n"
     ]
    }
   ],
   "source": [
    "tum.info ()"
   ]
  },
  {
   "cell_type": "markdown",
   "id": "1503b201-d68d-423d-b7c2-67fa34afa60b",
   "metadata": {},
   "source": [
    "## 2. Выполните предобработку данных: "
   ]
  },
  {
   "cell_type": "markdown",
   "id": "889ef69f-5e28-4ed9-bec1-8b05a124fa88",
   "metadata": {},
   "source": [
    "### *проверьте наличие пропущенных значений в столбцах таблицы, при необходимости устраните пропуски;"
   ]
  },
  {
   "cell_type": "code",
   "execution_count": 5,
   "id": "bfcc5647-c066-43fc-8f92-df9613dff106",
   "metadata": {},
   "outputs": [
    {
     "data": {
      "text/plain": [
       "Tumor Type     0\n",
       "Location       0\n",
       "Size (cm)      1\n",
       "Grade          0\n",
       "Patient Age    0\n",
       "Gender         0\n",
       "dtype: int64"
      ]
     },
     "execution_count": 5,
     "metadata": {},
     "output_type": "execute_result"
    }
   ],
   "source": [
    "tum.isna().sum()"
   ]
  },
  {
   "cell_type": "code",
   "execution_count": 6,
   "id": "981ba9fe-3043-4f09-9b5f-6b8185057f55",
   "metadata": {},
   "outputs": [],
   "source": [
    "tum.dropna(inplace = True)"
   ]
  },
  {
   "cell_type": "code",
   "execution_count": 7,
   "id": "0ed2789f-af8d-4510-99e4-dc95bca0f1f6",
   "metadata": {},
   "outputs": [
    {
     "data": {
      "text/plain": [
       "Tumor Type     0\n",
       "Location       0\n",
       "Size (cm)      0\n",
       "Grade          0\n",
       "Patient Age    0\n",
       "Gender         0\n",
       "dtype: int64"
      ]
     },
     "execution_count": 7,
     "metadata": {},
     "output_type": "execute_result"
    }
   ],
   "source": [
    "tum.isna().sum()"
   ]
  },
  {
   "cell_type": "markdown",
   "id": "a90dd427-92b0-4df8-bd57-5de0f8ff5246",
   "metadata": {},
   "source": [
    "### * проверьте соотвествие типов данных в столбцах их содержимому;"
   ]
  },
  {
   "cell_type": "code",
   "execution_count": 8,
   "id": "2150947c-4a05-40f6-b45d-4c8bfe66adb8",
   "metadata": {},
   "outputs": [],
   "source": [
    "tum['Size (cm)'] = (tum['Size (cm)'].\n",
    "                                            str.replace ('%', '').\n",
    "                                            str.replace (',', '.').\n",
    "                                            astype(float)\n",
    "                                             )"
   ]
  },
  {
   "cell_type": "code",
   "execution_count": 9,
   "id": "e3ba36f9-1fc6-4618-afba-4381e3b7e53b",
   "metadata": {},
   "outputs": [
    {
     "name": "stdout",
     "output_type": "stream",
     "text": [
      "<class 'pandas.core.frame.DataFrame'>\n",
      "Index: 1000 entries, 0 to 1000\n",
      "Data columns (total 6 columns):\n",
      " #   Column       Non-Null Count  Dtype  \n",
      "---  ------       --------------  -----  \n",
      " 0   Tumor Type   1000 non-null   object \n",
      " 1   Location     1000 non-null   object \n",
      " 2   Size (cm)    1000 non-null   float64\n",
      " 3   Grade        1000 non-null   object \n",
      " 4   Patient Age  1000 non-null   int64  \n",
      " 5   Gender       1000 non-null   object \n",
      "dtypes: float64(1), int64(1), object(4)\n",
      "memory usage: 54.7+ KB\n"
     ]
    }
   ],
   "source": [
    "tum.info ()"
   ]
  },
  {
   "cell_type": "markdown",
   "id": "214aa923-b703-42ee-8832-59606d212c40",
   "metadata": {},
   "source": [
    "### * изучите уникальные значения в столбцах, проверьте наличие опечаток."
   ]
  },
  {
   "cell_type": "code",
   "execution_count": 10,
   "id": "99068a1b-0fbe-4f26-acd5-ac549a12c1a6",
   "metadata": {},
   "outputs": [
    {
     "data": {
      "text/plain": [
       "array(['Oligodendroglioma', 'Ependymoma', 'Meningioma', 'Astrocytoma',\n",
       "       'Glioblastoma'], dtype=object)"
      ]
     },
     "execution_count": 10,
     "metadata": {},
     "output_type": "execute_result"
    }
   ],
   "source": [
    "values = tum['Tumor Type'].unique()\n",
    "values"
   ]
  },
  {
   "cell_type": "code",
   "execution_count": 11,
   "id": "adbb32e3-9b78-42d5-9356-39b5ea069a02",
   "metadata": {},
   "outputs": [
    {
     "data": {
      "text/plain": [
       "array(['Occipital Lobe', 'Brainstem', 'Temporal Lobe', 'Frontal Lobe',\n",
       "       'Cerebellum', 'Parietal Lobe', 'Brainstam'], dtype=object)"
      ]
     },
     "execution_count": 11,
     "metadata": {},
     "output_type": "execute_result"
    }
   ],
   "source": [
    "values = tum['Location'].unique()\n",
    "values"
   ]
  },
  {
   "cell_type": "code",
   "execution_count": 12,
   "id": "bc68888d-1e3a-462e-9e47-8c6935ab660e",
   "metadata": {
    "scrolled": true
   },
   "outputs": [
    {
     "data": {
      "text/plain": [
       "array(['I', 'II', 'III', 'IV'], dtype=object)"
      ]
     },
     "execution_count": 12,
     "metadata": {},
     "output_type": "execute_result"
    }
   ],
   "source": [
    "values = tum['Grade'].unique()\n",
    "values"
   ]
  },
  {
   "cell_type": "code",
   "execution_count": 13,
   "id": "d7578bca-9b6f-488c-8269-03343f65e643",
   "metadata": {},
   "outputs": [
    {
     "data": {
      "text/plain": [
       "array(['Female', 'Male', 'Woman', 'Man', 'Women'], dtype=object)"
      ]
     },
     "execution_count": 13,
     "metadata": {},
     "output_type": "execute_result"
    }
   ],
   "source": [
    "values = tum['Gender'].unique()\n",
    "values"
   ]
  },
  {
   "cell_type": "code",
   "execution_count": 14,
   "id": "cd9f4561-df3b-43a3-a83b-8f375315cf25",
   "metadata": {},
   "outputs": [],
   "source": [
    "tum['Gender'].replace('Woman', 'Female', inplace = True)\n",
    "tum['Gender'].replace('Women', 'Female', inplace = True)\n",
    "tum['Gender'].replace('Man', 'Male', inplace = True)"
   ]
  },
  {
   "cell_type": "code",
   "execution_count": 15,
   "id": "824c9d51-4a32-45ab-87ac-27f100411e18",
   "metadata": {},
   "outputs": [
    {
     "data": {
      "text/plain": [
       "0       Female\n",
       "1         Male\n",
       "2       Female\n",
       "3       Female\n",
       "5         Male\n",
       "         ...  \n",
       "996     Female\n",
       "997     Female\n",
       "998     Female\n",
       "999     Female\n",
       "1000    Female\n",
       "Name: Gender, Length: 1000, dtype: object"
      ]
     },
     "execution_count": 15,
     "metadata": {},
     "output_type": "execute_result"
    }
   ],
   "source": [
    "values = tum['Gender']\n",
    "values"
   ]
  },
  {
   "cell_type": "markdown",
   "id": "708abe92-0d76-4cf4-8bfc-bdbc6a01791b",
   "metadata": {},
   "source": [
    "## 3. Добавьте в таблицу новый столбец - возрастная группа пациента (для деления на возрастные группы воспользуйтесь классификацией Всемирной организации здравоохранения)."
   ]
  },
  {
   "cell_type": "code",
   "execution_count": 16,
   "id": "f27e9c27-86f3-4ddc-b1a5-1f6f6ad291e2",
   "metadata": {},
   "outputs": [],
   "source": [
    "import numpy as np"
   ]
  },
  {
   "cell_type": "code",
   "execution_count": 17,
   "id": "2bdab173-280c-4904-ac14-11e146a48a6d",
   "metadata": {},
   "outputs": [],
   "source": [
    "years_old = [\n",
    "    (tum['Patient Age'] < 18),\n",
    "    (tum['Patient Age'] >= 18) & (tum['Patient Age'] <= 44),\n",
    "    (tum['Patient Age'] >= 45) & (tum['Patient Age'] <= 59),\n",
    "    (tum['Patient Age'] >= 60) & (tum['Patient Age'] <= 74),\n",
    "    (tum['Patient Age'] >= 75) & (tum['Patient Age'] <= 90),\n",
    "    (tum['Patient Age'] > 90)]\n",
    "\n",
    "names = ['juveniles', 'young people' , 'middle-aged people', 'elderly age', 'senile age', 'longevity']\n",
    "\n",
    "tum['AgeGroup'] = np.select(years_old,names)"
   ]
  },
  {
   "cell_type": "code",
   "execution_count": 18,
   "id": "1829d60c-672c-4641-a0be-da7a738b02e2",
   "metadata": {},
   "outputs": [
    {
     "name": "stdout",
     "output_type": "stream",
     "text": [
      "<class 'pandas.core.frame.DataFrame'>\n",
      "Index: 1000 entries, 0 to 1000\n",
      "Data columns (total 7 columns):\n",
      " #   Column       Non-Null Count  Dtype  \n",
      "---  ------       --------------  -----  \n",
      " 0   Tumor Type   1000 non-null   object \n",
      " 1   Location     1000 non-null   object \n",
      " 2   Size (cm)    1000 non-null   float64\n",
      " 3   Grade        1000 non-null   object \n",
      " 4   Patient Age  1000 non-null   int64  \n",
      " 5   Gender       1000 non-null   object \n",
      " 6   AgeGroup     1000 non-null   object \n",
      "dtypes: float64(1), int64(1), object(5)\n",
      "memory usage: 62.5+ KB\n"
     ]
    }
   ],
   "source": [
    "tum.info ()"
   ]
  },
  {
   "cell_type": "markdown",
   "id": "6e61e5e4-7eb7-4622-aeb8-94f57d1fdacc",
   "metadata": {},
   "source": [
    "## 4.С использованием сводных таблиц и/или срезов данных исследуйте:"
   ]
  },
  {
   "cell_type": "markdown",
   "id": "dc77e172-1f28-49f3-b6d5-951fac4290e9",
   "metadata": {},
   "source": [
    "### * медианный возраст мужчин и женщин с опухолями мозга;"
   ]
  },
  {
   "cell_type": "code",
   "execution_count": 19,
   "id": "1e52b60e-0704-4a39-9ac5-4fb33789cf72",
   "metadata": {},
   "outputs": [
    {
     "data": {
      "text/html": [
       "<div>\n",
       "<style scoped>\n",
       "    .dataframe tbody tr th:only-of-type {\n",
       "        vertical-align: middle;\n",
       "    }\n",
       "\n",
       "    .dataframe tbody tr th {\n",
       "        vertical-align: top;\n",
       "    }\n",
       "\n",
       "    .dataframe thead th {\n",
       "        text-align: right;\n",
       "    }\n",
       "</style>\n",
       "<table border=\"1\" class=\"dataframe\">\n",
       "  <thead>\n",
       "    <tr style=\"text-align: right;\">\n",
       "      <th></th>\n",
       "      <th>Patient Age</th>\n",
       "    </tr>\n",
       "    <tr>\n",
       "      <th>Gender</th>\n",
       "      <th></th>\n",
       "    </tr>\n",
       "  </thead>\n",
       "  <tbody>\n",
       "    <tr>\n",
       "      <th>Female</th>\n",
       "      <td>42.0</td>\n",
       "    </tr>\n",
       "    <tr>\n",
       "      <th>Male</th>\n",
       "      <td>44.5</td>\n",
       "    </tr>\n",
       "  </tbody>\n",
       "</table>\n",
       "</div>"
      ],
      "text/plain": [
       "        Patient Age\n",
       "Gender             \n",
       "Female         42.0\n",
       "Male           44.5"
      ]
     },
     "execution_count": 19,
     "metadata": {},
     "output_type": "execute_result"
    }
   ],
   "source": [
    "tum.pivot_table(index=['Gender'], values=['Patient Age'], aggfunc=np.median)"
   ]
  },
  {
   "cell_type": "markdown",
   "id": "d10f9add-d95d-4b45-9f87-a3c93d354a3f",
   "metadata": {},
   "source": [
    "### * количество мужчин и женщин разных возрастных групп;"
   ]
  },
  {
   "cell_type": "code",
   "execution_count": 20,
   "id": "971bfc37-cea0-4cff-8c86-cb7202f70367",
   "metadata": {},
   "outputs": [
    {
     "data": {
      "text/html": [
       "<div>\n",
       "<style scoped>\n",
       "    .dataframe tbody tr th:only-of-type {\n",
       "        vertical-align: middle;\n",
       "    }\n",
       "\n",
       "    .dataframe tbody tr th {\n",
       "        vertical-align: top;\n",
       "    }\n",
       "\n",
       "    .dataframe thead th {\n",
       "        text-align: right;\n",
       "    }\n",
       "</style>\n",
       "<table border=\"1\" class=\"dataframe\">\n",
       "  <thead>\n",
       "    <tr style=\"text-align: right;\">\n",
       "      <th></th>\n",
       "      <th>Gender</th>\n",
       "      <th>AgeGroup</th>\n",
       "      <th>Count</th>\n",
       "    </tr>\n",
       "  </thead>\n",
       "  <tbody>\n",
       "    <tr>\n",
       "      <th>0</th>\n",
       "      <td>Female</td>\n",
       "      <td>elderly age</td>\n",
       "      <td>83</td>\n",
       "    </tr>\n",
       "    <tr>\n",
       "      <th>1</th>\n",
       "      <td>Female</td>\n",
       "      <td>juveniles</td>\n",
       "      <td>99</td>\n",
       "    </tr>\n",
       "    <tr>\n",
       "      <th>2</th>\n",
       "      <td>Female</td>\n",
       "      <td>middle-aged people</td>\n",
       "      <td>82</td>\n",
       "    </tr>\n",
       "    <tr>\n",
       "      <th>3</th>\n",
       "      <td>Female</td>\n",
       "      <td>senile age</td>\n",
       "      <td>68</td>\n",
       "    </tr>\n",
       "    <tr>\n",
       "      <th>4</th>\n",
       "      <td>Female</td>\n",
       "      <td>young people</td>\n",
       "      <td>154</td>\n",
       "    </tr>\n",
       "    <tr>\n",
       "      <th>5</th>\n",
       "      <td>Male</td>\n",
       "      <td>elderly age</td>\n",
       "      <td>85</td>\n",
       "    </tr>\n",
       "    <tr>\n",
       "      <th>6</th>\n",
       "      <td>Male</td>\n",
       "      <td>juveniles</td>\n",
       "      <td>105</td>\n",
       "    </tr>\n",
       "    <tr>\n",
       "      <th>7</th>\n",
       "      <td>Male</td>\n",
       "      <td>middle-aged people</td>\n",
       "      <td>103</td>\n",
       "    </tr>\n",
       "    <tr>\n",
       "      <th>8</th>\n",
       "      <td>Male</td>\n",
       "      <td>senile age</td>\n",
       "      <td>69</td>\n",
       "    </tr>\n",
       "    <tr>\n",
       "      <th>9</th>\n",
       "      <td>Male</td>\n",
       "      <td>young people</td>\n",
       "      <td>152</td>\n",
       "    </tr>\n",
       "  </tbody>\n",
       "</table>\n",
       "</div>"
      ],
      "text/plain": [
       "   Gender            AgeGroup  Count\n",
       "0  Female         elderly age     83\n",
       "1  Female           juveniles     99\n",
       "2  Female  middle-aged people     82\n",
       "3  Female          senile age     68\n",
       "4  Female        young people    154\n",
       "5    Male         elderly age     85\n",
       "6    Male           juveniles    105\n",
       "7    Male  middle-aged people    103\n",
       "8    Male          senile age     69\n",
       "9    Male        young people    152"
      ]
     },
     "execution_count": 20,
     "metadata": {},
     "output_type": "execute_result"
    }
   ],
   "source": [
    "table1 = tum.groupby(['Gender', 'AgeGroup']).size().reset_index(name='Count')\n",
    "table1"
   ]
  },
  {
   "cell_type": "markdown",
   "id": "32873300-e66f-4445-b3a7-6246174e119f",
   "metadata": {},
   "source": [
    "### * медианный размер для разных категорий опухоли, раположения и градации;"
   ]
  },
  {
   "cell_type": "code",
   "execution_count": 21,
   "id": "b5581a56-1c0b-48e7-b9b3-0ea2c6bb9b96",
   "metadata": {},
   "outputs": [
    {
     "data": {
      "text/html": [
       "<div>\n",
       "<style scoped>\n",
       "    .dataframe tbody tr th:only-of-type {\n",
       "        vertical-align: middle;\n",
       "    }\n",
       "\n",
       "    .dataframe tbody tr th {\n",
       "        vertical-align: top;\n",
       "    }\n",
       "\n",
       "    .dataframe thead tr th {\n",
       "        text-align: left;\n",
       "    }\n",
       "\n",
       "    .dataframe thead tr:last-of-type th {\n",
       "        text-align: right;\n",
       "    }\n",
       "</style>\n",
       "<table border=\"1\" class=\"dataframe\">\n",
       "  <thead>\n",
       "    <tr>\n",
       "      <th></th>\n",
       "      <th></th>\n",
       "      <th colspan=\"4\" halign=\"left\">Size (cm)</th>\n",
       "    </tr>\n",
       "    <tr>\n",
       "      <th></th>\n",
       "      <th>Grade</th>\n",
       "      <th>I</th>\n",
       "      <th>II</th>\n",
       "      <th>III</th>\n",
       "      <th>IV</th>\n",
       "    </tr>\n",
       "    <tr>\n",
       "      <th>Tumor Type</th>\n",
       "      <th>Location</th>\n",
       "      <th></th>\n",
       "      <th></th>\n",
       "      <th></th>\n",
       "      <th></th>\n",
       "    </tr>\n",
       "  </thead>\n",
       "  <tbody>\n",
       "    <tr>\n",
       "      <th rowspan=\"6\" valign=\"top\">Astrocytoma</th>\n",
       "      <th>Brainstem</th>\n",
       "      <td>2.630</td>\n",
       "      <td>6.810</td>\n",
       "      <td>7.030</td>\n",
       "      <td>6.920</td>\n",
       "    </tr>\n",
       "    <tr>\n",
       "      <th>Cerebellum</th>\n",
       "      <td>5.715</td>\n",
       "      <td>3.560</td>\n",
       "      <td>4.295</td>\n",
       "      <td>3.860</td>\n",
       "    </tr>\n",
       "    <tr>\n",
       "      <th>Frontal Lobe</th>\n",
       "      <td>4.360</td>\n",
       "      <td>4.110</td>\n",
       "      <td>3.970</td>\n",
       "      <td>2.510</td>\n",
       "    </tr>\n",
       "    <tr>\n",
       "      <th>Occipital Lobe</th>\n",
       "      <td>6.610</td>\n",
       "      <td>3.630</td>\n",
       "      <td>5.050</td>\n",
       "      <td>3.700</td>\n",
       "    </tr>\n",
       "    <tr>\n",
       "      <th>Parietal Lobe</th>\n",
       "      <td>5.800</td>\n",
       "      <td>5.230</td>\n",
       "      <td>6.770</td>\n",
       "      <td>4.990</td>\n",
       "    </tr>\n",
       "    <tr>\n",
       "      <th>Temporal Lobe</th>\n",
       "      <td>4.500</td>\n",
       "      <td>6.550</td>\n",
       "      <td>7.485</td>\n",
       "      <td>7.400</td>\n",
       "    </tr>\n",
       "    <tr>\n",
       "      <th rowspan=\"7\" valign=\"top\">Ependymoma</th>\n",
       "      <th>Brainstam</th>\n",
       "      <td>6.450</td>\n",
       "      <td>NaN</td>\n",
       "      <td>NaN</td>\n",
       "      <td>NaN</td>\n",
       "    </tr>\n",
       "    <tr>\n",
       "      <th>Brainstem</th>\n",
       "      <td>5.540</td>\n",
       "      <td>2.300</td>\n",
       "      <td>7.140</td>\n",
       "      <td>3.740</td>\n",
       "    </tr>\n",
       "    <tr>\n",
       "      <th>Cerebellum</th>\n",
       "      <td>5.760</td>\n",
       "      <td>2.610</td>\n",
       "      <td>7.170</td>\n",
       "      <td>2.240</td>\n",
       "    </tr>\n",
       "    <tr>\n",
       "      <th>Frontal Lobe</th>\n",
       "      <td>2.190</td>\n",
       "      <td>6.190</td>\n",
       "      <td>5.910</td>\n",
       "      <td>6.900</td>\n",
       "    </tr>\n",
       "    <tr>\n",
       "      <th>Occipital Lobe</th>\n",
       "      <td>5.435</td>\n",
       "      <td>1.460</td>\n",
       "      <td>5.240</td>\n",
       "      <td>4.620</td>\n",
       "    </tr>\n",
       "    <tr>\n",
       "      <th>Parietal Lobe</th>\n",
       "      <td>6.520</td>\n",
       "      <td>5.240</td>\n",
       "      <td>4.485</td>\n",
       "      <td>3.200</td>\n",
       "    </tr>\n",
       "    <tr>\n",
       "      <th>Temporal Lobe</th>\n",
       "      <td>7.370</td>\n",
       "      <td>4.570</td>\n",
       "      <td>8.230</td>\n",
       "      <td>1.930</td>\n",
       "    </tr>\n",
       "    <tr>\n",
       "      <th rowspan=\"6\" valign=\"top\">Glioblastoma</th>\n",
       "      <th>Brainstem</th>\n",
       "      <td>4.860</td>\n",
       "      <td>6.380</td>\n",
       "      <td>5.745</td>\n",
       "      <td>5.380</td>\n",
       "    </tr>\n",
       "    <tr>\n",
       "      <th>Cerebellum</th>\n",
       "      <td>4.610</td>\n",
       "      <td>5.695</td>\n",
       "      <td>1.190</td>\n",
       "      <td>5.830</td>\n",
       "    </tr>\n",
       "    <tr>\n",
       "      <th>Frontal Lobe</th>\n",
       "      <td>7.740</td>\n",
       "      <td>1.340</td>\n",
       "      <td>2.500</td>\n",
       "      <td>6.770</td>\n",
       "    </tr>\n",
       "    <tr>\n",
       "      <th>Occipital Lobe</th>\n",
       "      <td>3.820</td>\n",
       "      <td>6.295</td>\n",
       "      <td>9.320</td>\n",
       "      <td>4.690</td>\n",
       "    </tr>\n",
       "    <tr>\n",
       "      <th>Parietal Lobe</th>\n",
       "      <td>4.460</td>\n",
       "      <td>5.570</td>\n",
       "      <td>6.370</td>\n",
       "      <td>4.090</td>\n",
       "    </tr>\n",
       "    <tr>\n",
       "      <th>Temporal Lobe</th>\n",
       "      <td>6.495</td>\n",
       "      <td>8.570</td>\n",
       "      <td>4.985</td>\n",
       "      <td>5.240</td>\n",
       "    </tr>\n",
       "    <tr>\n",
       "      <th rowspan=\"6\" valign=\"top\">Meningioma</th>\n",
       "      <th>Brainstem</th>\n",
       "      <td>5.435</td>\n",
       "      <td>4.030</td>\n",
       "      <td>4.610</td>\n",
       "      <td>6.550</td>\n",
       "    </tr>\n",
       "    <tr>\n",
       "      <th>Cerebellum</th>\n",
       "      <td>5.880</td>\n",
       "      <td>3.270</td>\n",
       "      <td>4.320</td>\n",
       "      <td>3.810</td>\n",
       "    </tr>\n",
       "    <tr>\n",
       "      <th>Frontal Lobe</th>\n",
       "      <td>5.900</td>\n",
       "      <td>7.730</td>\n",
       "      <td>9.015</td>\n",
       "      <td>2.700</td>\n",
       "    </tr>\n",
       "    <tr>\n",
       "      <th>Occipital Lobe</th>\n",
       "      <td>3.470</td>\n",
       "      <td>5.260</td>\n",
       "      <td>7.345</td>\n",
       "      <td>5.185</td>\n",
       "    </tr>\n",
       "    <tr>\n",
       "      <th>Parietal Lobe</th>\n",
       "      <td>6.110</td>\n",
       "      <td>2.870</td>\n",
       "      <td>3.560</td>\n",
       "      <td>7.360</td>\n",
       "    </tr>\n",
       "    <tr>\n",
       "      <th>Temporal Lobe</th>\n",
       "      <td>6.935</td>\n",
       "      <td>6.545</td>\n",
       "      <td>3.130</td>\n",
       "      <td>8.480</td>\n",
       "    </tr>\n",
       "    <tr>\n",
       "      <th rowspan=\"6\" valign=\"top\">Oligodendroglioma</th>\n",
       "      <th>Brainstem</th>\n",
       "      <td>2.850</td>\n",
       "      <td>5.330</td>\n",
       "      <td>4.930</td>\n",
       "      <td>6.800</td>\n",
       "    </tr>\n",
       "    <tr>\n",
       "      <th>Cerebellum</th>\n",
       "      <td>4.030</td>\n",
       "      <td>5.195</td>\n",
       "      <td>4.320</td>\n",
       "      <td>7.665</td>\n",
       "    </tr>\n",
       "    <tr>\n",
       "      <th>Frontal Lobe</th>\n",
       "      <td>3.975</td>\n",
       "      <td>5.890</td>\n",
       "      <td>4.980</td>\n",
       "      <td>4.960</td>\n",
       "    </tr>\n",
       "    <tr>\n",
       "      <th>Occipital Lobe</th>\n",
       "      <td>5.640</td>\n",
       "      <td>6.650</td>\n",
       "      <td>4.520</td>\n",
       "      <td>2.350</td>\n",
       "    </tr>\n",
       "    <tr>\n",
       "      <th>Parietal Lobe</th>\n",
       "      <td>3.985</td>\n",
       "      <td>4.400</td>\n",
       "      <td>5.720</td>\n",
       "      <td>7.300</td>\n",
       "    </tr>\n",
       "    <tr>\n",
       "      <th>Temporal Lobe</th>\n",
       "      <td>6.060</td>\n",
       "      <td>4.580</td>\n",
       "      <td>5.270</td>\n",
       "      <td>6.260</td>\n",
       "    </tr>\n",
       "  </tbody>\n",
       "</table>\n",
       "</div>"
      ],
      "text/plain": [
       "                                 Size (cm)                     \n",
       "Grade                                    I     II    III     IV\n",
       "Tumor Type        Location                                     \n",
       "Astrocytoma       Brainstem          2.630  6.810  7.030  6.920\n",
       "                  Cerebellum         5.715  3.560  4.295  3.860\n",
       "                  Frontal Lobe       4.360  4.110  3.970  2.510\n",
       "                  Occipital Lobe     6.610  3.630  5.050  3.700\n",
       "                  Parietal Lobe      5.800  5.230  6.770  4.990\n",
       "                  Temporal Lobe      4.500  6.550  7.485  7.400\n",
       "Ependymoma        Brainstam          6.450    NaN    NaN    NaN\n",
       "                  Brainstem          5.540  2.300  7.140  3.740\n",
       "                  Cerebellum         5.760  2.610  7.170  2.240\n",
       "                  Frontal Lobe       2.190  6.190  5.910  6.900\n",
       "                  Occipital Lobe     5.435  1.460  5.240  4.620\n",
       "                  Parietal Lobe      6.520  5.240  4.485  3.200\n",
       "                  Temporal Lobe      7.370  4.570  8.230  1.930\n",
       "Glioblastoma      Brainstem          4.860  6.380  5.745  5.380\n",
       "                  Cerebellum         4.610  5.695  1.190  5.830\n",
       "                  Frontal Lobe       7.740  1.340  2.500  6.770\n",
       "                  Occipital Lobe     3.820  6.295  9.320  4.690\n",
       "                  Parietal Lobe      4.460  5.570  6.370  4.090\n",
       "                  Temporal Lobe      6.495  8.570  4.985  5.240\n",
       "Meningioma        Brainstem          5.435  4.030  4.610  6.550\n",
       "                  Cerebellum         5.880  3.270  4.320  3.810\n",
       "                  Frontal Lobe       5.900  7.730  9.015  2.700\n",
       "                  Occipital Lobe     3.470  5.260  7.345  5.185\n",
       "                  Parietal Lobe      6.110  2.870  3.560  7.360\n",
       "                  Temporal Lobe      6.935  6.545  3.130  8.480\n",
       "Oligodendroglioma Brainstem          2.850  5.330  4.930  6.800\n",
       "                  Cerebellum         4.030  5.195  4.320  7.665\n",
       "                  Frontal Lobe       3.975  5.890  4.980  4.960\n",
       "                  Occipital Lobe     5.640  6.650  4.520  2.350\n",
       "                  Parietal Lobe      3.985  4.400  5.720  7.300\n",
       "                  Temporal Lobe      6.060  4.580  5.270  6.260"
      ]
     },
     "execution_count": 21,
     "metadata": {},
     "output_type": "execute_result"
    }
   ],
   "source": [
    "tum.pivot_table(index=['Tumor Type', 'Location'], columns=['Grade'], values = ['Size (cm)'], aggfunc=np.median)"
   ]
  },
  {
   "cell_type": "code",
   "execution_count": null,
   "id": "aad33a0b-b450-4fcb-b028-fc3971530e2c",
   "metadata": {},
   "outputs": [],
   "source": []
  },
  {
   "cell_type": "markdown",
   "id": "452b8080-208a-4a4f-b9c8-1b4adff990a6",
   "metadata": {},
   "source": [
    "### * какая категория опулохи преобладает в каждой возрастной группе у мужчин и женщин."
   ]
  },
  {
   "cell_type": "code",
   "execution_count": 22,
   "id": "47388e46-5bc5-4e35-a27b-1ef188efab3b",
   "metadata": {
    "scrolled": true
   },
   "outputs": [
    {
     "data": {
      "text/html": [
       "<div>\n",
       "<style scoped>\n",
       "    .dataframe tbody tr th:only-of-type {\n",
       "        vertical-align: middle;\n",
       "    }\n",
       "\n",
       "    .dataframe tbody tr th {\n",
       "        vertical-align: top;\n",
       "    }\n",
       "\n",
       "    .dataframe thead th {\n",
       "        text-align: right;\n",
       "    }\n",
       "</style>\n",
       "<table border=\"1\" class=\"dataframe\">\n",
       "  <thead>\n",
       "    <tr style=\"text-align: right;\">\n",
       "      <th></th>\n",
       "      <th></th>\n",
       "      <th>Tumor Type</th>\n",
       "    </tr>\n",
       "    <tr>\n",
       "      <th>Gender</th>\n",
       "      <th>AgeGroup</th>\n",
       "      <th></th>\n",
       "    </tr>\n",
       "  </thead>\n",
       "  <tbody>\n",
       "    <tr>\n",
       "      <th rowspan=\"5\" valign=\"top\">Female</th>\n",
       "      <th>elderly age</th>\n",
       "      <td>Oligodendroglioma</td>\n",
       "    </tr>\n",
       "    <tr>\n",
       "      <th>juveniles</th>\n",
       "      <td>Oligodendroglioma</td>\n",
       "    </tr>\n",
       "    <tr>\n",
       "      <th>middle-aged people</th>\n",
       "      <td>Oligodendroglioma</td>\n",
       "    </tr>\n",
       "    <tr>\n",
       "      <th>senile age</th>\n",
       "      <td>Oligodendroglioma</td>\n",
       "    </tr>\n",
       "    <tr>\n",
       "      <th>young people</th>\n",
       "      <td>Oligodendroglioma</td>\n",
       "    </tr>\n",
       "    <tr>\n",
       "      <th rowspan=\"5\" valign=\"top\">Male</th>\n",
       "      <th>elderly age</th>\n",
       "      <td>Oligodendroglioma</td>\n",
       "    </tr>\n",
       "    <tr>\n",
       "      <th>juveniles</th>\n",
       "      <td>Oligodendroglioma</td>\n",
       "    </tr>\n",
       "    <tr>\n",
       "      <th>middle-aged people</th>\n",
       "      <td>Oligodendroglioma</td>\n",
       "    </tr>\n",
       "    <tr>\n",
       "      <th>senile age</th>\n",
       "      <td>Oligodendroglioma</td>\n",
       "    </tr>\n",
       "    <tr>\n",
       "      <th>young people</th>\n",
       "      <td>Oligodendroglioma</td>\n",
       "    </tr>\n",
       "  </tbody>\n",
       "</table>\n",
       "</div>"
      ],
      "text/plain": [
       "                                  Tumor Type\n",
       "Gender AgeGroup                             \n",
       "Female elderly age         Oligodendroglioma\n",
       "       juveniles           Oligodendroglioma\n",
       "       middle-aged people  Oligodendroglioma\n",
       "       senile age          Oligodendroglioma\n",
       "       young people        Oligodendroglioma\n",
       "Male   elderly age         Oligodendroglioma\n",
       "       juveniles           Oligodendroglioma\n",
       "       middle-aged people  Oligodendroglioma\n",
       "       senile age          Oligodendroglioma\n",
       "       young people        Oligodendroglioma"
      ]
     },
     "execution_count": 22,
     "metadata": {},
     "output_type": "execute_result"
    }
   ],
   "source": [
    "tum.pivot_table(index=['Gender', 'AgeGroup'], values=['Tumor Type'], aggfunc= np.max)"
   ]
  },
  {
   "cell_type": "markdown",
   "id": "9a06ac9f-9ab4-44f5-9ff5-f3602ea88752",
   "metadata": {},
   "source": [
    "## 5. Постройте гистограммы распределения размеров опухолей для разных категорий опухоли, раположения и градации."
   ]
  },
  {
   "cell_type": "markdown",
   "id": "f1a484a3-3f24-40b8-8e2b-43b8b796e719",
   "metadata": {},
   "source": [
    "### СВОДНАЯ"
   ]
  },
  {
   "cell_type": "code",
   "execution_count": 23,
   "id": "e6f6aebf-68ba-4f14-96ab-9ae9b825fca6",
   "metadata": {},
   "outputs": [
    {
     "name": "stderr",
     "output_type": "stream",
     "text": [
      "/tmp/ipykernel_1883939/259017521.py:14: UserWarning: FixedFormatter should only be used together with FixedLocator\n",
      "  ax[0,0].set_xticklabels(labels = ['Oligodendroglioma', 'Ependymoma', 'Meningioma', 'Astrocytoma',\n",
      "/tmp/ipykernel_1883939/259017521.py:16: UserWarning: FixedFormatter should only be used together with FixedLocator\n",
      "  ax[0,1].set_xticklabels(labels = ['Occipital Lobe', 'Brainstem', 'Temporal Lobe', 'Frontal Lobe',\n",
      "/tmp/ipykernel_1883939/259017521.py:18: UserWarning: FixedFormatter should only be used together with FixedLocator\n",
      "  ax[1,0].set_xticklabels(labels = ['I', 'II', 'III', 'IV'])\n"
     ]
    },
    {
     "data": {
      "text/plain": [
       "[Text(0.5, 0, '')]"
      ]
     },
     "execution_count": 23,
     "metadata": {},
     "output_type": "execute_result"
    },
    {
     "data": {
      "image/png": "[encoded data removed]",
      "text/plain": [
       "<Figure size 1300x1000 with 4 Axes>"
      ]
     },
     "metadata": {},
     "output_type": "display_data"
    }
   ],
   "source": [
    "import  matplotlib.pyplot as plt\n",
    "import seaborn as sns\n",
    "\n",
    "\n",
    "fig, ax = plt.subplots(nrows=2, ncols=2, figsize=(13,10))\n",
    "ax[0,0] = sns.histplot(ax=ax[0,0], x = tum['Tumor Type'])\n",
    "ax[0,1] = sns.histplot(ax=ax[0,1], x = tum['Location'])\n",
    "ax[1,0] = sns.histplot(ax=ax[1,0], x = tum['Grade'])\n",
    "\n",
    "ax[0,0].set_title('Тип опухоли')\n",
    "ax[0,1].set_title('Локация')\n",
    "ax[1,0].set_title('Градация')\n",
    "\n",
    "ax[0,0].set_xticklabels(labels = ['Oligodendroglioma', 'Ependymoma', 'Meningioma', 'Astrocytoma',\n",
    "       'Glioblastoma'], rotation=30)\n",
    "ax[0,1].set_xticklabels(labels = ['Occipital Lobe', 'Brainstem', 'Temporal Lobe', 'Frontal Lobe',\n",
    "       'Cerebellum', 'Parietal Lobe', 'Brainstam'] , rotation=30)\n",
    "ax[1,0].set_xticklabels(labels = ['I', 'II', 'III', 'IV'])\n",
    "\n",
    "ax[1,0].set(xlabel = '') # пустые кавычки удаляют подпись по оси (!)\n",
    "ax[0,1].set(xlabel = '')\n",
    "ax[1,0].set(xlabel = '')\n"
   ]
  },
  {
   "cell_type": "markdown",
   "id": "49f3d371-497a-483b-8449-380b9a1099a9",
   "metadata": {},
   "source": [
    "## 6. Постройте круговые диаграммы для категориальных признаков таблицы."
   ]
  },
  {
   "cell_type": "code",
   "execution_count": 24,
   "id": "4d30af54-0679-4aeb-a726-de4066059029",
   "metadata": {},
   "outputs": [
    {
     "data": {
      "image/png": "[encoded data removed]",
      "text/plain": [
       "<Figure size 1200x1200 with 8 Axes>"
      ]
     },
     "metadata": {},
     "output_type": "display_data"
    }
   ],
   "source": [
    "tt = tum['Tumor Type'].value_counts().to_dict()\n",
    "lo =  tum['Location'].value_counts().to_dict()\n",
    "gr = tum['Grade'].value_counts().to_dict()\n",
    "hi = tum['Gender'].value_counts().to_dict()\n",
    "\n",
    "\n",
    "fig, axes = plt.subplots(nrows=2, ncols=4, figsize=(12,12))\n",
    "axes=axes.flatten()\n",
    "\n",
    "axes[0].pie(tt.values(), labels = tt.keys(), autopct='%1.1f%%')\n",
    "axes[0].set_title('Тип опухоли')\n",
    "\n",
    "axes[1].pie(gr.values(), labels = gr.keys(), autopct='%1.1f%%')\n",
    "axes[1].set_title('Степень')\n",
    "\n",
    "axes[2].pie(hi.values(), labels = hi.keys(), autopct = '%1.1f%%')\n",
    "axes[2].set_title('Пол')\n",
    "\n",
    "axes[3].pie(lo.values(), labels = lo.keys(), autopct='%1.1f%%')\n",
    "axes[3].set_title('Расположение')\n",
    "\n",
    "for i in range(3,len (axes)):\n",
    "    axes [i].axis('off')\n",
    "\n",
    "plt.tight_layout()\n",
    "plt.show()"
   ]
  },
  {
   "cell_type": "markdown",
   "id": "fa620920-6ff7-4222-9411-d80e83a36b59",
   "metadata": {},
   "source": [
    "## 7. При помощи коэффициент $\\phi_K$ из библиотеки phik оцениите связь между признаками (не забудьте указать параметр метода - `interval_cols`)"
   ]
  },
  {
   "cell_type": "code",
   "execution_count": 25,
   "id": "0947f42b-39b2-44f6-b467-0d9c18709481",
   "metadata": {},
   "outputs": [
    {
     "name": "stdout",
     "output_type": "stream",
     "text": [
      "Defaulting to user installation because normal site-packages is not writeable\n",
      "Requirement already satisfied: phik in /usr/local/lib/python3.8/dist-packages (0.12.4)\n",
      "Requirement already satisfied: numpy>=1.18.0 in /usr/local/lib/python3.8/dist-packages (from phik) (1.24.3)\n",
      "Requirement already satisfied: scipy>=1.5.2 in /usr/local/lib/python3.8/dist-packages (from phik) (1.10.1)\n",
      "Requirement already satisfied: pandas>=0.25.1 in /usr/local/lib/python3.8/dist-packages (from phik) (2.0.3)\n",
      "Requirement already satisfied: matplotlib>=2.2.3 in /usr/local/lib/python3.8/dist-packages (from phik) (3.7.5)\n",
      "Requirement already satisfied: joblib>=0.14.1 in /usr/local/lib/python3.8/dist-packages (from phik) (1.4.2)\n",
      "Requirement already satisfied: contourpy>=1.0.1 in /usr/local/lib/python3.8/dist-packages (from matplotlib>=2.2.3->phik) (1.1.1)\n",
      "Requirement already satisfied: cycler>=0.10 in /usr/local/lib/python3.8/dist-packages (from matplotlib>=2.2.3->phik) (0.12.1)\n",
      "Requirement already satisfied: fonttools>=4.22.0 in /usr/local/lib/python3.8/dist-packages (from matplotlib>=2.2.3->phik) (4.54.1)\n",
      "Requirement already satisfied: kiwisolver>=1.0.1 in /usr/local/lib/python3.8/dist-packages (from matplotlib>=2.2.3->phik) (1.4.7)\n",
      "Requirement already satisfied: packaging>=20.0 in /usr/local/lib/python3.8/dist-packages (from matplotlib>=2.2.3->phik) (24.2)\n",
      "Requirement already satisfied: pillow>=6.2.0 in /usr/local/lib/python3.8/dist-packages (from matplotlib>=2.2.3->phik) (10.4.0)\n",
      "Requirement already satisfied: pyparsing>=2.3.1 in /usr/local/lib/python3.8/dist-packages (from matplotlib>=2.2.3->phik) (3.1.4)\n",
      "Requirement already satisfied: python-dateutil>=2.7 in /usr/local/lib/python3.8/dist-packages (from matplotlib>=2.2.3->phik) (2.9.0.post0)\n",
      "Requirement already satisfied: importlib-resources>=3.2.0 in /usr/local/lib/python3.8/dist-packages (from matplotlib>=2.2.3->phik) (6.4.5)\n",
      "Requirement already satisfied: pytz>=2020.1 in /usr/local/lib/python3.8/dist-packages (from pandas>=0.25.1->phik) (2024.1)\n",
      "Requirement already satisfied: tzdata>=2022.1 in /usr/local/lib/python3.8/dist-packages (from pandas>=0.25.1->phik) (2024.2)\n",
      "Requirement already satisfied: zipp>=3.1.0 in /usr/local/lib/python3.8/dist-packages (from importlib-resources>=3.2.0->matplotlib>=2.2.3->phik) (3.20.2)\n",
      "Requirement already satisfied: six>=1.5 in /usr/local/lib/python3.8/dist-packages (from python-dateutil>=2.7->matplotlib>=2.2.3->phik) (1.16.0)\n",
      "\n",
      "\u001b[1m[\u001b[0m\u001b[34;49mnotice\u001b[0m\u001b[1;39;49m]\u001b[0m\u001b[39;49m A new release of pip is available: \u001b[0m\u001b[31;49m24.3.1\u001b[0m\u001b[39;49m -> \u001b[0m\u001b[32;49m25.0.1\u001b[0m\n",
      "\u001b[1m[\u001b[0m\u001b[34;49mnotice\u001b[0m\u001b[1;39;49m]\u001b[0m\u001b[39;49m To update, run: \u001b[0m\u001b[32;49mpython3 -m pip install --upgrade pip\u001b[0m\n"
     ]
    }
   ],
   "source": [
    "!pip install phik"
   ]
  },
  {
   "cell_type": "code",
   "execution_count": 26,
   "id": "7e3a0936-06ae-4985-9e15-f8ed8c87ee38",
   "metadata": {},
   "outputs": [],
   "source": [
    "from phik.report import plot_correlation_matrix"
   ]
  },
  {
   "cell_type": "code",
   "execution_count": 27,
   "id": "de8e932d-1286-48e6-bc8f-2c2d97599fb1",
   "metadata": {},
   "outputs": [
    {
     "data": {
      "image/png": "[encoded data removed]",
      "text/plain": [
       "<Figure size 1200x1000 with 2 Axes>"
      ]
     },
     "metadata": {},
     "output_type": "display_data"
    }
   ],
   "source": [
    "interval_cols = tum.select_dtypes(include = 'number').columns.tolist()\n",
    "phik_overview = tum.phik_matrix(interval_cols = interval_cols, njobs=1)\n",
    "\n",
    "plot_correlation_matrix(phik_overview.values,\n",
    "                        x_labels=phik_overview.columns,\n",
    "                        y_labels=phik_overview.index,\n",
    "                        vmin=0, vmax=1, color_map=\"Greens\",\n",
    "                        title=r\"Матрица корреляций $\\phi_K$\",\n",
    "                        fontsize_factor=1,\n",
    "                        figsize=(12, 10))\n",
    "plt.tight_layout()"
   ]
  },
  {
   "cell_type": "markdown",
   "id": "2bcff8d0-277b-4950-ba8f-68c1709727af",
   "metadata": {},
   "source": [
    "## 8. Проверьте статистичеcкие гипотезы:"
   ]
  },
  {
   "cell_type": "markdown",
   "id": "67c1430a-1744-4e5e-9464-97d3f932b986",
   "metadata": {},
   "source": [
    "### * различается ли средний возраст мужчин и женщин с опухолью головного мозга;"
   ]
  },
  {
   "cell_type": "code",
   "execution_count": 28,
   "id": "eb40023d-c38a-4d56-9c85-bf952f9562fa",
   "metadata": {},
   "outputs": [],
   "source": [
    "import scipy.stats as stats"
   ]
  },
  {
   "cell_type": "code",
   "execution_count": 29,
   "id": "6b7781bc-8205-4e07-9e8b-fdb4ea196310",
   "metadata": {},
   "outputs": [
    {
     "name": "stdout",
     "output_type": "stream",
     "text": [
      "Patient Age  1   2   3   4   5   6   7   8   9   10  ...  80  81  82  83  84  \\\n",
      "Gender                                               ...                       \n",
      "Female        5   4   1   7  10   6   2   2   6   6  ...   7   1   3   5   5   \n",
      "Male          2   4   4  10   9   4  10   4   6  10  ...   3   4   4   3   8   \n",
      "\n",
      "Patient Age  85  86  87  88  89  \n",
      "Gender                           \n",
      "Female        4   3   7   2   5  \n",
      "Male          4   1  10   6   2  \n",
      "\n",
      "[2 rows x 89 columns]\n"
     ]
    }
   ],
   "source": [
    "# Нулевая гипотеза: различия среднего возраста мужчин и женщин значимы\n",
    "#Альтернативная гипотеза: различия среднего возраста мужчин и женщин не значимы\n",
    "CrosstabResult=pd.crosstab(index=tum['Gender'], columns=tum['Patient Age'])\n",
    "print(CrosstabResult)"
   ]
  },
  {
   "cell_type": "code",
   "execution_count": 30,
   "id": "96ab8553-9986-4363-bc93-91929451fe35",
   "metadata": {},
   "outputs": [
    {
     "name": "stdout",
     "output_type": "stream",
     "text": [
      "\u001b[4m\u001b[1m\u001b[94mЗначение статистики хи-квадрат равно 89.12\u001b[0m\n",
      "\u001b[4m\u001b[1m\u001b[94mP-значение равно 0.45\u001b[0m\n"
     ]
    }
   ],
   "source": [
    "statistic, p, dof, expected = stats.chi2_contingency(CrosstabResult)\n",
    "print('\\033[4m'+ '\\033[1m' + '\\033[94m' + 'Значение статистики хи-квадрат равно {:.2f}'.format(statistic) + '\\033[0m')\n",
    "print('\\033[4m'+ '\\033[1m' + '\\033[94m' + 'P-значение равно {:.2f}'.format(p) + '\\033[0m')"
   ]
  },
  {
   "cell_type": "code",
   "execution_count": 31,
   "id": "923f0787-c323-402b-9313-a307c6796bee",
   "metadata": {},
   "outputs": [
    {
     "name": "stdout",
     "output_type": "stream",
     "text": [
      "Принимаем нулевую гипотезу: различия среднего возраста мужчин и женщин значимы\n"
     ]
    }
   ],
   "source": [
    "if p < 0.05:  \n",
    "    print(\"Различия среднего возраста мужчин и женщин не значимы\")  \n",
    "else:  \n",
    "    print(\"Принимаем нулевую гипотезу: различия среднего возраста мужчин и женщин значимы\")"
   ]
  },
  {
   "cell_type": "markdown",
   "id": "5d1b9b3a-fb8c-486e-9408-99e58e0001e8",
   "metadata": {},
   "source": [
    "### * действительно ли глиобластомы чаще обнаруживаются у мужчин, чем у женщин;"
   ]
  },
  {
   "cell_type": "code",
   "execution_count": 32,
   "id": "74c2a2e3-6097-4df4-b559-476a202e4d4a",
   "metadata": {},
   "outputs": [],
   "source": [
    "# Нулевая гипотеза: глиобластомы чаще обнаруживаются у мужчин, чем у женщин\n",
    "#Альтернативная гипотеза: глиобластомы чаще не обнаруживаются у мужчин, чем у женщин;"
   ]
  },
  {
   "cell_type": "code",
   "execution_count": 34,
   "id": "9d8d7519-74bb-469e-bd3e-4d932867fc7a",
   "metadata": {},
   "outputs": [
    {
     "name": "stdout",
     "output_type": "stream",
     "text": [
      "Tumor Type  Astrocytoma  Ependymoma  Glioblastoma  Meningioma  \\\n",
      "Gender                                                          \n",
      "Female               93          93           104          99   \n",
      "Male                 97         111           106          91   \n",
      "\n",
      "Tumor Type  Oligodendroglioma  \n",
      "Gender                         \n",
      "Female                     97  \n",
      "Male                      109  \n"
     ]
    }
   ],
   "source": [
    "CrosstabResult1=pd.crosstab(index=tum['Gender'], columns=tum['Tumor Type'])\n",
    "print(CrosstabResult1)"
   ]
  },
  {
   "cell_type": "code",
   "execution_count": 35,
   "id": "ca2681c6-8fd0-4291-ba8c-d82e5928b212",
   "metadata": {},
   "outputs": [],
   "source": [
    "tum.rename(columns= {'Tumor Type':'Tumor_Type'}, inplace=True)"
   ]
  },
  {
   "cell_type": "code",
   "execution_count": 36,
   "id": "2b6f44ff-80ce-4016-a73d-5dda5f8ce58f",
   "metadata": {},
   "outputs": [
    {
     "data": {
      "text/html": [
       "<div>\n",
       "<style scoped>\n",
       "    .dataframe tbody tr th:only-of-type {\n",
       "        vertical-align: middle;\n",
       "    }\n",
       "\n",
       "    .dataframe tbody tr th {\n",
       "        vertical-align: top;\n",
       "    }\n",
       "\n",
       "    .dataframe thead th {\n",
       "        text-align: right;\n",
       "    }\n",
       "</style>\n",
       "<table border=\"1\" class=\"dataframe\">\n",
       "  <thead>\n",
       "    <tr style=\"text-align: right;\">\n",
       "      <th></th>\n",
       "      <th>Tumor_Type</th>\n",
       "      <th>Location</th>\n",
       "      <th>Size (cm)</th>\n",
       "      <th>Grade</th>\n",
       "      <th>Patient Age</th>\n",
       "      <th>Gender</th>\n",
       "      <th>AgeGroup</th>\n",
       "    </tr>\n",
       "  </thead>\n",
       "  <tbody>\n",
       "    <tr>\n",
       "      <th>18</th>\n",
       "      <td>Glioblastoma</td>\n",
       "      <td>Frontal Lobe</td>\n",
       "      <td>9.64</td>\n",
       "      <td>II</td>\n",
       "      <td>42</td>\n",
       "      <td>Male</td>\n",
       "      <td>young people</td>\n",
       "    </tr>\n",
       "    <tr>\n",
       "      <th>23</th>\n",
       "      <td>Glioblastoma</td>\n",
       "      <td>Cerebellum</td>\n",
       "      <td>0.97</td>\n",
       "      <td>I</td>\n",
       "      <td>31</td>\n",
       "      <td>Male</td>\n",
       "      <td>young people</td>\n",
       "    </tr>\n",
       "    <tr>\n",
       "      <th>24</th>\n",
       "      <td>Glioblastoma</td>\n",
       "      <td>Occipital Lobe</td>\n",
       "      <td>3.82</td>\n",
       "      <td>I</td>\n",
       "      <td>15</td>\n",
       "      <td>Male</td>\n",
       "      <td>juveniles</td>\n",
       "    </tr>\n",
       "    <tr>\n",
       "      <th>33</th>\n",
       "      <td>Glioblastoma</td>\n",
       "      <td>Frontal Lobe</td>\n",
       "      <td>5.82</td>\n",
       "      <td>IV</td>\n",
       "      <td>70</td>\n",
       "      <td>Male</td>\n",
       "      <td>elderly age</td>\n",
       "    </tr>\n",
       "    <tr>\n",
       "      <th>41</th>\n",
       "      <td>Glioblastoma</td>\n",
       "      <td>Occipital Lobe</td>\n",
       "      <td>9.39</td>\n",
       "      <td>III</td>\n",
       "      <td>47</td>\n",
       "      <td>Male</td>\n",
       "      <td>middle-aged people</td>\n",
       "    </tr>\n",
       "    <tr>\n",
       "      <th>...</th>\n",
       "      <td>...</td>\n",
       "      <td>...</td>\n",
       "      <td>...</td>\n",
       "      <td>...</td>\n",
       "      <td>...</td>\n",
       "      <td>...</td>\n",
       "      <td>...</td>\n",
       "    </tr>\n",
       "    <tr>\n",
       "      <th>928</th>\n",
       "      <td>Glioblastoma</td>\n",
       "      <td>Frontal Lobe</td>\n",
       "      <td>7.36</td>\n",
       "      <td>IV</td>\n",
       "      <td>34</td>\n",
       "      <td>Male</td>\n",
       "      <td>young people</td>\n",
       "    </tr>\n",
       "    <tr>\n",
       "      <th>931</th>\n",
       "      <td>Glioblastoma</td>\n",
       "      <td>Occipital Lobe</td>\n",
       "      <td>2.74</td>\n",
       "      <td>I</td>\n",
       "      <td>10</td>\n",
       "      <td>Male</td>\n",
       "      <td>juveniles</td>\n",
       "    </tr>\n",
       "    <tr>\n",
       "      <th>935</th>\n",
       "      <td>Glioblastoma</td>\n",
       "      <td>Brainstem</td>\n",
       "      <td>6.46</td>\n",
       "      <td>II</td>\n",
       "      <td>52</td>\n",
       "      <td>Male</td>\n",
       "      <td>middle-aged people</td>\n",
       "    </tr>\n",
       "    <tr>\n",
       "      <th>949</th>\n",
       "      <td>Glioblastoma</td>\n",
       "      <td>Brainstem</td>\n",
       "      <td>4.54</td>\n",
       "      <td>I</td>\n",
       "      <td>26</td>\n",
       "      <td>Male</td>\n",
       "      <td>young people</td>\n",
       "    </tr>\n",
       "    <tr>\n",
       "      <th>966</th>\n",
       "      <td>Glioblastoma</td>\n",
       "      <td>Temporal Lobe</td>\n",
       "      <td>8.26</td>\n",
       "      <td>IV</td>\n",
       "      <td>58</td>\n",
       "      <td>Male</td>\n",
       "      <td>middle-aged people</td>\n",
       "    </tr>\n",
       "  </tbody>\n",
       "</table>\n",
       "<p>106 rows × 7 columns</p>\n",
       "</div>"
      ],
      "text/plain": [
       "       Tumor_Type        Location  Size (cm) Grade  Patient Age Gender  \\\n",
       "18   Glioblastoma    Frontal Lobe       9.64    II           42   Male   \n",
       "23   Glioblastoma      Cerebellum       0.97     I           31   Male   \n",
       "24   Glioblastoma  Occipital Lobe       3.82     I           15   Male   \n",
       "33   Glioblastoma    Frontal Lobe       5.82    IV           70   Male   \n",
       "41   Glioblastoma  Occipital Lobe       9.39   III           47   Male   \n",
       "..            ...             ...        ...   ...          ...    ...   \n",
       "928  Glioblastoma    Frontal Lobe       7.36    IV           34   Male   \n",
       "931  Glioblastoma  Occipital Lobe       2.74     I           10   Male   \n",
       "935  Glioblastoma       Brainstem       6.46    II           52   Male   \n",
       "949  Glioblastoma       Brainstem       4.54     I           26   Male   \n",
       "966  Glioblastoma   Temporal Lobe       8.26    IV           58   Male   \n",
       "\n",
       "               AgeGroup  \n",
       "18         young people  \n",
       "23         young people  \n",
       "24            juveniles  \n",
       "33          elderly age  \n",
       "41   middle-aged people  \n",
       "..                  ...  \n",
       "928        young people  \n",
       "931           juveniles  \n",
       "935  middle-aged people  \n",
       "949        young people  \n",
       "966  middle-aged people  \n",
       "\n",
       "[106 rows x 7 columns]"
      ]
     },
     "execution_count": 36,
     "metadata": {},
     "output_type": "execute_result"
    }
   ],
   "source": [
    "group1 = tum.query('Gender == \"Male\" and Tumor_Type == \"Glioblastoma\"')\n",
    "group1"
   ]
  },
  {
   "cell_type": "code",
   "execution_count": 37,
   "id": "080f4567-9921-4bab-8c3b-eda711513aee",
   "metadata": {},
   "outputs": [
    {
     "data": {
      "text/html": [
       "<div>\n",
       "<style scoped>\n",
       "    .dataframe tbody tr th:only-of-type {\n",
       "        vertical-align: middle;\n",
       "    }\n",
       "\n",
       "    .dataframe tbody tr th {\n",
       "        vertical-align: top;\n",
       "    }\n",
       "\n",
       "    .dataframe thead th {\n",
       "        text-align: right;\n",
       "    }\n",
       "</style>\n",
       "<table border=\"1\" class=\"dataframe\">\n",
       "  <thead>\n",
       "    <tr style=\"text-align: right;\">\n",
       "      <th></th>\n",
       "      <th>Tumor_Type</th>\n",
       "      <th>Location</th>\n",
       "      <th>Size (cm)</th>\n",
       "      <th>Grade</th>\n",
       "      <th>Patient Age</th>\n",
       "      <th>Gender</th>\n",
       "      <th>AgeGroup</th>\n",
       "    </tr>\n",
       "  </thead>\n",
       "  <tbody>\n",
       "    <tr>\n",
       "      <th>38</th>\n",
       "      <td>Glioblastoma</td>\n",
       "      <td>Temporal Lobe</td>\n",
       "      <td>6.10</td>\n",
       "      <td>III</td>\n",
       "      <td>69</td>\n",
       "      <td>Female</td>\n",
       "      <td>elderly age</td>\n",
       "    </tr>\n",
       "    <tr>\n",
       "      <th>45</th>\n",
       "      <td>Glioblastoma</td>\n",
       "      <td>Cerebellum</td>\n",
       "      <td>6.31</td>\n",
       "      <td>IV</td>\n",
       "      <td>66</td>\n",
       "      <td>Female</td>\n",
       "      <td>elderly age</td>\n",
       "    </tr>\n",
       "    <tr>\n",
       "      <th>70</th>\n",
       "      <td>Glioblastoma</td>\n",
       "      <td>Brainstem</td>\n",
       "      <td>2.11</td>\n",
       "      <td>IV</td>\n",
       "      <td>43</td>\n",
       "      <td>Female</td>\n",
       "      <td>young people</td>\n",
       "    </tr>\n",
       "    <tr>\n",
       "      <th>81</th>\n",
       "      <td>Glioblastoma</td>\n",
       "      <td>Frontal Lobe</td>\n",
       "      <td>1.34</td>\n",
       "      <td>II</td>\n",
       "      <td>13</td>\n",
       "      <td>Female</td>\n",
       "      <td>juveniles</td>\n",
       "    </tr>\n",
       "    <tr>\n",
       "      <th>84</th>\n",
       "      <td>Glioblastoma</td>\n",
       "      <td>Cerebellum</td>\n",
       "      <td>4.98</td>\n",
       "      <td>I</td>\n",
       "      <td>85</td>\n",
       "      <td>Female</td>\n",
       "      <td>senile age</td>\n",
       "    </tr>\n",
       "    <tr>\n",
       "      <th>...</th>\n",
       "      <td>...</td>\n",
       "      <td>...</td>\n",
       "      <td>...</td>\n",
       "      <td>...</td>\n",
       "      <td>...</td>\n",
       "      <td>...</td>\n",
       "      <td>...</td>\n",
       "    </tr>\n",
       "    <tr>\n",
       "      <th>954</th>\n",
       "      <td>Glioblastoma</td>\n",
       "      <td>Parietal Lobe</td>\n",
       "      <td>7.72</td>\n",
       "      <td>III</td>\n",
       "      <td>2</td>\n",
       "      <td>Female</td>\n",
       "      <td>juveniles</td>\n",
       "    </tr>\n",
       "    <tr>\n",
       "      <th>955</th>\n",
       "      <td>Glioblastoma</td>\n",
       "      <td>Cerebellum</td>\n",
       "      <td>1.19</td>\n",
       "      <td>III</td>\n",
       "      <td>79</td>\n",
       "      <td>Female</td>\n",
       "      <td>senile age</td>\n",
       "    </tr>\n",
       "    <tr>\n",
       "      <th>959</th>\n",
       "      <td>Glioblastoma</td>\n",
       "      <td>Brainstem</td>\n",
       "      <td>6.35</td>\n",
       "      <td>I</td>\n",
       "      <td>63</td>\n",
       "      <td>Female</td>\n",
       "      <td>elderly age</td>\n",
       "    </tr>\n",
       "    <tr>\n",
       "      <th>996</th>\n",
       "      <td>Glioblastoma</td>\n",
       "      <td>Temporal Lobe</td>\n",
       "      <td>7.69</td>\n",
       "      <td>I</td>\n",
       "      <td>42</td>\n",
       "      <td>Female</td>\n",
       "      <td>young people</td>\n",
       "    </tr>\n",
       "    <tr>\n",
       "      <th>997</th>\n",
       "      <td>Glioblastoma</td>\n",
       "      <td>Frontal Lobe</td>\n",
       "      <td>3.21</td>\n",
       "      <td>III</td>\n",
       "      <td>87</td>\n",
       "      <td>Female</td>\n",
       "      <td>senile age</td>\n",
       "    </tr>\n",
       "  </tbody>\n",
       "</table>\n",
       "<p>104 rows × 7 columns</p>\n",
       "</div>"
      ],
      "text/plain": [
       "       Tumor_Type       Location  Size (cm) Grade  Patient Age  Gender  \\\n",
       "38   Glioblastoma  Temporal Lobe       6.10   III           69  Female   \n",
       "45   Glioblastoma     Cerebellum       6.31    IV           66  Female   \n",
       "70   Glioblastoma      Brainstem       2.11    IV           43  Female   \n",
       "81   Glioblastoma   Frontal Lobe       1.34    II           13  Female   \n",
       "84   Glioblastoma     Cerebellum       4.98     I           85  Female   \n",
       "..            ...            ...        ...   ...          ...     ...   \n",
       "954  Glioblastoma  Parietal Lobe       7.72   III            2  Female   \n",
       "955  Glioblastoma     Cerebellum       1.19   III           79  Female   \n",
       "959  Glioblastoma      Brainstem       6.35     I           63  Female   \n",
       "996  Glioblastoma  Temporal Lobe       7.69     I           42  Female   \n",
       "997  Glioblastoma   Frontal Lobe       3.21   III           87  Female   \n",
       "\n",
       "         AgeGroup  \n",
       "38    elderly age  \n",
       "45    elderly age  \n",
       "70   young people  \n",
       "81      juveniles  \n",
       "84     senile age  \n",
       "..            ...  \n",
       "954     juveniles  \n",
       "955    senile age  \n",
       "959   elderly age  \n",
       "996  young people  \n",
       "997    senile age  \n",
       "\n",
       "[104 rows x 7 columns]"
      ]
     },
     "execution_count": 37,
     "metadata": {},
     "output_type": "execute_result"
    }
   ],
   "source": [
    "group2 = tum.query('Gender == \"Female\" and Tumor_Type == \"Glioblastoma\"')\n",
    "group2"
   ]
  },
  {
   "cell_type": "code",
   "execution_count": 38,
   "id": "3e62a5e6-77d8-43ea-8398-43a6c3944237",
   "metadata": {},
   "outputs": [
    {
     "name": "stdout",
     "output_type": "stream",
     "text": [
      "\u001b[4m\u001b[1m\u001b[94mЗначение статистики хи-квадрат равно 1.94\u001b[0m\n",
      "\u001b[4m\u001b[1m\u001b[94mP-значение равно 0.75\u001b[0m\n"
     ]
    }
   ],
   "source": [
    "statistic, p, dof, expected = stats.chi2_contingency(CrosstabResult1)\n",
    "print('\\033[4m'+ '\\033[1m' + '\\033[94m' + 'Значение статистики хи-квадрат равно {:.2f}'.format(statistic) + '\\033[0m')\n",
    "print('\\033[4m'+ '\\033[1m' + '\\033[94m' + 'P-значение равно {:.2f}'.format(p) + '\\033[0m')"
   ]
  },
  {
   "cell_type": "code",
   "execution_count": 39,
   "id": "da781f7b-41a7-44bc-a161-c03ee3897a50",
   "metadata": {},
   "outputs": [
    {
     "name": "stdout",
     "output_type": "stream",
     "text": [
      "глиобластомы чаще обнаруживаются у мужчин, чем у женщин\n"
     ]
    }
   ],
   "source": [
    "if p < 0.05:  \n",
    "    print(\"глиобластомы чаще не обнаруживаются у мужчин, чем у женщин\")  \n",
    "else:  \n",
    "    print(\"глиобластомы чаще обнаруживаются у мужчин, чем у женщин\")"
   ]
  },
  {
   "cell_type": "markdown",
   "id": "1226b451-b5b1-4640-8838-989e1b768817",
   "metadata": {},
   "source": [
    "### * действительно ли менингиомы чаще всречаются у детей (до 18 лет), чем у взрослых"
   ]
  },
  {
   "cell_type": "code",
   "execution_count": 40,
   "id": "b880737a-3c64-4572-a14c-65344f1b494b",
   "metadata": {},
   "outputs": [],
   "source": [
    "# Нулевая гипотеза: менингиомы чаще всречаются у детей\n",
    "#Альтернативная гипотеза: менингиомы всречаются у детей не чаще"
   ]
  },
  {
   "cell_type": "code",
   "execution_count": 41,
   "id": "da3d6248-b604-4319-a6e5-5b24f88cd8b3",
   "metadata": {},
   "outputs": [
    {
     "name": "stdout",
     "output_type": "stream",
     "text": [
      "Tumor_Type          Astrocytoma  Ependymoma  Glioblastoma  Meningioma  \\\n",
      "AgeGroup                                                                \n",
      "elderly age                  34          33            41          23   \n",
      "juveniles                    42          38            43          38   \n",
      "middle-aged people           39          34            42          38   \n",
      "senile age                   23          31            23          32   \n",
      "young people                 52          68            61          59   \n",
      "\n",
      "Tumor_Type          Oligodendroglioma  \n",
      "AgeGroup                               \n",
      "elderly age                        37  \n",
      "juveniles                          43  \n",
      "middle-aged people                 32  \n",
      "senile age                         28  \n",
      "young people                       66  \n"
     ]
    }
   ],
   "source": [
    "CrosstabResult2=pd.crosstab(index=tum['AgeGroup'], columns=tum['Tumor_Type'])\n",
    "print(CrosstabResult2)"
   ]
  },
  {
   "cell_type": "code",
   "execution_count": 42,
   "id": "0c6f6ee6-5b97-44f9-a459-1864a5fa41dd",
   "metadata": {},
   "outputs": [
    {
     "name": "stdout",
     "output_type": "stream",
     "text": [
      "\u001b[4m\u001b[1m\u001b[94mЗначение статистики хи-квадрат равно 0.00\u001b[0m\n",
      "\u001b[4m\u001b[1m\u001b[94mP-значение равно 1.00\u001b[0m\n"
     ]
    }
   ],
   "source": [
    "statistic, p, dof, expected = stats.chi2_contingency(CrosstabResult2['Meningioma'])\n",
    "print('\\033[4m'+ '\\033[1m' + '\\033[94m' + 'Значение статистики хи-квадрат равно {:.2f}'.format(statistic) + '\\033[0m')\n",
    "print('\\033[4m'+ '\\033[1m' + '\\033[94m' + 'P-значение равно {:.2f}'.format(p) + '\\033[0m')"
   ]
  },
  {
   "cell_type": "code",
   "execution_count": 43,
   "id": "6a13bce4-2065-497e-b6b3-18cc63f7107e",
   "metadata": {},
   "outputs": [
    {
     "name": "stdout",
     "output_type": "stream",
     "text": [
      "менингиомы чаще всречаются у детей\n"
     ]
    }
   ],
   "source": [
    "if p < 0.05:  \n",
    "    print(\"менингиомы всречаются у детей не чаще\")  \n",
    "else:  \n",
    "    print(\"менингиомы чаще всречаются у детей\")\n"
   ]
  },
  {
   "cell_type": "code",
   "execution_count": null,
   "id": "db2040f0-2c13-4adf-9c1f-e5d2a74bdd3a",
   "metadata": {},
   "outputs": [],
   "source": []
  }
 ],
 "metadata": {
  "kernelspec": {
   "display_name": "Python 3 (ipykernel)",
   "language": "python",
   "name": "python3"
  },
  "language_info": {
   "codemirror_mode": {
    "name": "ipython",
    "version": 3
   },
   "file_extension": ".py",
   "mimetype": "text/x-python",
   "name": "python",
   "nbconvert_exporter": "python",
   "pygments_lexer": "ipython3",
   "version": "3.8.10"
  },
  "varInspector": {
   "cols": {
    "lenName": 16,
    "lenType": 16,
    "lenVar": 40
   },
   "kernels_config": {
    "python": {
     "delete_cmd_postfix": "",
     "delete_cmd_prefix": "del ",
     "library": "var_list.py",
     "varRefreshCmd": "print(var_dic_list())"
    },
    "r": {
     "delete_cmd_postfix": ") ",
     "delete_cmd_prefix": "rm(",
     "library": "var_list.r",
     "varRefreshCmd": "cat(var_dic_list()) "
    }
   },
   "types_to_exclude": [
    "module",
    "function",
    "builtin_function_or_method",
    "instance",
    "_Feature"
   ],
   "window_display": false
  }
 },
 "nbformat": 4,
 "nbformat_minor": 5
}
